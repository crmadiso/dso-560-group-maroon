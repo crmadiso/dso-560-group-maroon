{
  "nbformat": 4,
  "nbformat_minor": 0,
  "metadata": {
    "colab": {
      "name": "Adding_Sentiment_Scores (1).ipynb",
      "provenance": []
    },
    "kernelspec": {
      "name": "python3",
      "display_name": "Python 3"
    },
    "language_info": {
      "name": "python"
    }
  },
  "cells": [
    {
      "cell_type": "code",
      "execution_count": null,
      "metadata": {
        "id": "fO1vbupMVxs-",
        "colab": {
          "base_uri": "https://localhost:8080/"
        },
        "outputId": "b4069d53-4bd8-4d5a-fde6-a3dc9d07bb13"
      },
      "outputs": [
        {
          "output_type": "stream",
          "name": "stdout",
          "text": [
            "Mounted at /content/drive\n"
          ]
        }
      ],
      "source": [
        "import pandas as pd\n",
        "import numpy as np\n",
        "\n",
        "# We load the google colab packages # \n",
        "from google.colab import drive  \n",
        "\n",
        "# Then we load our drive #\n",
        "drive.mount('/content/drive')"
      ]
    },
    {
      "cell_type": "code",
      "source": [
        "df = pd.read_csv('/content/drive/Shareddrives/DS0 560 - Group Project/Reel Good Data (Title+Service).csv')"
      ],
      "metadata": {
        "colab": {
          "base_uri": "https://localhost:8080/"
        },
        "id": "bcvSREgeYEbU",
        "outputId": "de73af72-c2a4-42e4-a2f9-b50070110cc1"
      },
      "execution_count": null,
      "outputs": [
        {
          "output_type": "stream",
          "name": "stderr",
          "text": [
            "/usr/local/lib/python3.7/dist-packages/IPython/core/interactiveshell.py:2882: DtypeWarning: Columns (10) have mixed types.Specify dtype option on import or set low_memory=False.\n",
            "  exec(code_obj, self.user_global_ns, self.user_ns)\n"
          ]
        }
      ]
    },
    {
      "cell_type": "code",
      "source": [
        "df[\"What it's about\"].isnull().sum()"
      ],
      "metadata": {
        "colab": {
          "base_uri": "https://localhost:8080/"
        },
        "id": "tCskQ3JVajxW",
        "outputId": "091a71b6-8460-49ac-e07e-24efeaf0866f"
      },
      "execution_count": null,
      "outputs": [
        {
          "output_type": "execute_result",
          "data": {
            "text/plain": [
              "71528"
            ]
          },
          "metadata": {},
          "execution_count": 22
        }
      ]
    },
    {
      "cell_type": "code",
      "source": [
        "df.describe()"
      ],
      "metadata": {
        "colab": {
          "base_uri": "https://localhost:8080/",
          "height": 300
        },
        "id": "kiOhtaxEaiCX",
        "outputId": "93fa1464-8ac5-431b-f11c-7eeb962b7d39"
      },
      "execution_count": null,
      "outputs": [
        {
          "output_type": "execute_result",
          "data": {
            "text/plain": [
              "          Unnamed: 0           IMDB       ReelGood  Released Year  \\\n",
              "count  137002.000000  133932.000000  136298.000000  137002.000000   \n",
              "mean   281608.070685       6.101420      47.126201    2002.960329   \n",
              "std    140814.562946       1.361616      15.368222      20.033949   \n",
              "min         0.000000       1.000000      10.000000    1900.000000   \n",
              "25%    169969.000000       5.300000      35.000000    2000.000000   \n",
              "50%    310719.500000       6.300000      44.000000    2011.000000   \n",
              "75%    403691.250000       7.100000      58.000000    2015.000000   \n",
              "max    480098.000000      10.000000     100.000000    2020.000000   \n",
              "\n",
              "           Seasons  Rent or Buy Available  Exclusive Service        Has Tag  \n",
              "count  8911.000000          137002.000000      137002.000000  137002.000000  \n",
              "mean      4.421502               0.847747           0.210464       0.477285  \n",
              "std       5.842651               0.359268           0.407640       0.499486  \n",
              "min       1.000000               0.000000           0.000000       0.000000  \n",
              "25%       1.000000               1.000000           0.000000       0.000000  \n",
              "50%       3.000000               1.000000           0.000000       0.000000  \n",
              "75%       5.000000               1.000000           0.000000       1.000000  \n",
              "max      86.000000               1.000000           1.000000       1.000000  "
            ],
            "text/html": [
              "\n",
              "  <div id=\"df-22171b9a-15ba-438a-bbff-344206b7ed66\">\n",
              "    <div class=\"colab-df-container\">\n",
              "      <div>\n",
              "<style scoped>\n",
              "    .dataframe tbody tr th:only-of-type {\n",
              "        vertical-align: middle;\n",
              "    }\n",
              "\n",
              "    .dataframe tbody tr th {\n",
              "        vertical-align: top;\n",
              "    }\n",
              "\n",
              "    .dataframe thead th {\n",
              "        text-align: right;\n",
              "    }\n",
              "</style>\n",
              "<table border=\"1\" class=\"dataframe\">\n",
              "  <thead>\n",
              "    <tr style=\"text-align: right;\">\n",
              "      <th></th>\n",
              "      <th>Unnamed: 0</th>\n",
              "      <th>IMDB</th>\n",
              "      <th>ReelGood</th>\n",
              "      <th>Released Year</th>\n",
              "      <th>Seasons</th>\n",
              "      <th>Rent or Buy Available</th>\n",
              "      <th>Exclusive Service</th>\n",
              "      <th>Has Tag</th>\n",
              "    </tr>\n",
              "  </thead>\n",
              "  <tbody>\n",
              "    <tr>\n",
              "      <th>count</th>\n",
              "      <td>137002.000000</td>\n",
              "      <td>133932.000000</td>\n",
              "      <td>136298.000000</td>\n",
              "      <td>137002.000000</td>\n",
              "      <td>8911.000000</td>\n",
              "      <td>137002.000000</td>\n",
              "      <td>137002.000000</td>\n",
              "      <td>137002.000000</td>\n",
              "    </tr>\n",
              "    <tr>\n",
              "      <th>mean</th>\n",
              "      <td>281608.070685</td>\n",
              "      <td>6.101420</td>\n",
              "      <td>47.126201</td>\n",
              "      <td>2002.960329</td>\n",
              "      <td>4.421502</td>\n",
              "      <td>0.847747</td>\n",
              "      <td>0.210464</td>\n",
              "      <td>0.477285</td>\n",
              "    </tr>\n",
              "    <tr>\n",
              "      <th>std</th>\n",
              "      <td>140814.562946</td>\n",
              "      <td>1.361616</td>\n",
              "      <td>15.368222</td>\n",
              "      <td>20.033949</td>\n",
              "      <td>5.842651</td>\n",
              "      <td>0.359268</td>\n",
              "      <td>0.407640</td>\n",
              "      <td>0.499486</td>\n",
              "    </tr>\n",
              "    <tr>\n",
              "      <th>min</th>\n",
              "      <td>0.000000</td>\n",
              "      <td>1.000000</td>\n",
              "      <td>10.000000</td>\n",
              "      <td>1900.000000</td>\n",
              "      <td>1.000000</td>\n",
              "      <td>0.000000</td>\n",
              "      <td>0.000000</td>\n",
              "      <td>0.000000</td>\n",
              "    </tr>\n",
              "    <tr>\n",
              "      <th>25%</th>\n",
              "      <td>169969.000000</td>\n",
              "      <td>5.300000</td>\n",
              "      <td>35.000000</td>\n",
              "      <td>2000.000000</td>\n",
              "      <td>1.000000</td>\n",
              "      <td>1.000000</td>\n",
              "      <td>0.000000</td>\n",
              "      <td>0.000000</td>\n",
              "    </tr>\n",
              "    <tr>\n",
              "      <th>50%</th>\n",
              "      <td>310719.500000</td>\n",
              "      <td>6.300000</td>\n",
              "      <td>44.000000</td>\n",
              "      <td>2011.000000</td>\n",
              "      <td>3.000000</td>\n",
              "      <td>1.000000</td>\n",
              "      <td>0.000000</td>\n",
              "      <td>0.000000</td>\n",
              "    </tr>\n",
              "    <tr>\n",
              "      <th>75%</th>\n",
              "      <td>403691.250000</td>\n",
              "      <td>7.100000</td>\n",
              "      <td>58.000000</td>\n",
              "      <td>2015.000000</td>\n",
              "      <td>5.000000</td>\n",
              "      <td>1.000000</td>\n",
              "      <td>0.000000</td>\n",
              "      <td>1.000000</td>\n",
              "    </tr>\n",
              "    <tr>\n",
              "      <th>max</th>\n",
              "      <td>480098.000000</td>\n",
              "      <td>10.000000</td>\n",
              "      <td>100.000000</td>\n",
              "      <td>2020.000000</td>\n",
              "      <td>86.000000</td>\n",
              "      <td>1.000000</td>\n",
              "      <td>1.000000</td>\n",
              "      <td>1.000000</td>\n",
              "    </tr>\n",
              "  </tbody>\n",
              "</table>\n",
              "</div>\n",
              "      <button class=\"colab-df-convert\" onclick=\"convertToInteractive('df-22171b9a-15ba-438a-bbff-344206b7ed66')\"\n",
              "              title=\"Convert this dataframe to an interactive table.\"\n",
              "              style=\"display:none;\">\n",
              "        \n",
              "  <svg xmlns=\"http://www.w3.org/2000/svg\" height=\"24px\"viewBox=\"0 0 24 24\"\n",
              "       width=\"24px\">\n",
              "    <path d=\"M0 0h24v24H0V0z\" fill=\"none\"/>\n",
              "    <path d=\"M18.56 5.44l.94 2.06.94-2.06 2.06-.94-2.06-.94-.94-2.06-.94 2.06-2.06.94zm-11 1L8.5 8.5l.94-2.06 2.06-.94-2.06-.94L8.5 2.5l-.94 2.06-2.06.94zm10 10l.94 2.06.94-2.06 2.06-.94-2.06-.94-.94-2.06-.94 2.06-2.06.94z\"/><path d=\"M17.41 7.96l-1.37-1.37c-.4-.4-.92-.59-1.43-.59-.52 0-1.04.2-1.43.59L10.3 9.45l-7.72 7.72c-.78.78-.78 2.05 0 2.83L4 21.41c.39.39.9.59 1.41.59.51 0 1.02-.2 1.41-.59l7.78-7.78 2.81-2.81c.8-.78.8-2.07 0-2.86zM5.41 20L4 18.59l7.72-7.72 1.47 1.35L5.41 20z\"/>\n",
              "  </svg>\n",
              "      </button>\n",
              "      \n",
              "  <style>\n",
              "    .colab-df-container {\n",
              "      display:flex;\n",
              "      flex-wrap:wrap;\n",
              "      gap: 12px;\n",
              "    }\n",
              "\n",
              "    .colab-df-convert {\n",
              "      background-color: #E8F0FE;\n",
              "      border: none;\n",
              "      border-radius: 50%;\n",
              "      cursor: pointer;\n",
              "      display: none;\n",
              "      fill: #1967D2;\n",
              "      height: 32px;\n",
              "      padding: 0 0 0 0;\n",
              "      width: 32px;\n",
              "    }\n",
              "\n",
              "    .colab-df-convert:hover {\n",
              "      background-color: #E2EBFA;\n",
              "      box-shadow: 0px 1px 2px rgba(60, 64, 67, 0.3), 0px 1px 3px 1px rgba(60, 64, 67, 0.15);\n",
              "      fill: #174EA6;\n",
              "    }\n",
              "\n",
              "    [theme=dark] .colab-df-convert {\n",
              "      background-color: #3B4455;\n",
              "      fill: #D2E3FC;\n",
              "    }\n",
              "\n",
              "    [theme=dark] .colab-df-convert:hover {\n",
              "      background-color: #434B5C;\n",
              "      box-shadow: 0px 1px 3px 1px rgba(0, 0, 0, 0.15);\n",
              "      filter: drop-shadow(0px 1px 2px rgba(0, 0, 0, 0.3));\n",
              "      fill: #FFFFFF;\n",
              "    }\n",
              "  </style>\n",
              "\n",
              "      <script>\n",
              "        const buttonEl =\n",
              "          document.querySelector('#df-22171b9a-15ba-438a-bbff-344206b7ed66 button.colab-df-convert');\n",
              "        buttonEl.style.display =\n",
              "          google.colab.kernel.accessAllowed ? 'block' : 'none';\n",
              "\n",
              "        async function convertToInteractive(key) {\n",
              "          const element = document.querySelector('#df-22171b9a-15ba-438a-bbff-344206b7ed66');\n",
              "          const dataTable =\n",
              "            await google.colab.kernel.invokeFunction('convertToInteractive',\n",
              "                                                     [key], {});\n",
              "          if (!dataTable) return;\n",
              "\n",
              "          const docLinkHtml = 'Like what you see? Visit the ' +\n",
              "            '<a target=\"_blank\" href=https://colab.research.google.com/notebooks/data_table.ipynb>data table notebook</a>'\n",
              "            + ' to learn more about interactive tables.';\n",
              "          element.innerHTML = '';\n",
              "          dataTable['output_type'] = 'display_data';\n",
              "          await google.colab.output.renderOutput(dataTable, element);\n",
              "          const docLink = document.createElement('div');\n",
              "          docLink.innerHTML = docLinkHtml;\n",
              "          element.appendChild(docLink);\n",
              "        }\n",
              "      </script>\n",
              "    </div>\n",
              "  </div>\n",
              "  "
            ]
          },
          "metadata": {},
          "execution_count": 23
        }
      ]
    },
    {
      "cell_type": "code",
      "source": [
        "df.dropna(subset=[\"What it's about\"], inplace = True)"
      ],
      "metadata": {
        "id": "xlEuYdS0cs5o"
      },
      "execution_count": null,
      "outputs": []
    },
    {
      "cell_type": "code",
      "source": [
        "df.describe()"
      ],
      "metadata": {
        "colab": {
          "base_uri": "https://localhost:8080/",
          "height": 300
        },
        "id": "6PUaigVadbPm",
        "outputId": "07952c9d-b9d4-49e9-cc88-309ca31de48c"
      },
      "execution_count": null,
      "outputs": [
        {
          "output_type": "execute_result",
          "data": {
            "text/plain": [
              "          Unnamed: 0          IMDB      ReelGood  Released Year      Seasons  \\\n",
              "count   65474.000000  65077.000000  65413.000000   65474.000000  8911.000000   \n",
              "mean   251767.336546      6.193357     53.220124    2000.265602     4.421502   \n",
              "std    132429.557126      1.327032     15.846098      20.931288     5.842651   \n",
              "min         0.000000      1.400000     10.000000    1900.000000     1.000000   \n",
              "25%    148140.500000      5.400000     40.000000    1994.000000     1.000000   \n",
              "50%    259591.000000      6.400000     52.000000    2009.000000     3.000000   \n",
              "75%    362164.250000      7.100000     65.000000    2014.000000     5.000000   \n",
              "max    480066.000000     10.000000    100.000000    2020.000000    86.000000   \n",
              "\n",
              "       Rent or Buy Available  Exclusive Service       Has Tag  \n",
              "count           65474.000000       65474.000000  65474.000000  \n",
              "mean                0.884870           0.199850      0.998702  \n",
              "std                 0.319181           0.399891      0.036008  \n",
              "min                 0.000000           0.000000      0.000000  \n",
              "25%                 1.000000           0.000000      1.000000  \n",
              "50%                 1.000000           0.000000      1.000000  \n",
              "75%                 1.000000           0.000000      1.000000  \n",
              "max                 1.000000           1.000000      1.000000  "
            ],
            "text/html": [
              "\n",
              "  <div id=\"df-3d9003cf-8bb1-413b-b537-12583c54dee1\">\n",
              "    <div class=\"colab-df-container\">\n",
              "      <div>\n",
              "<style scoped>\n",
              "    .dataframe tbody tr th:only-of-type {\n",
              "        vertical-align: middle;\n",
              "    }\n",
              "\n",
              "    .dataframe tbody tr th {\n",
              "        vertical-align: top;\n",
              "    }\n",
              "\n",
              "    .dataframe thead th {\n",
              "        text-align: right;\n",
              "    }\n",
              "</style>\n",
              "<table border=\"1\" class=\"dataframe\">\n",
              "  <thead>\n",
              "    <tr style=\"text-align: right;\">\n",
              "      <th></th>\n",
              "      <th>Unnamed: 0</th>\n",
              "      <th>IMDB</th>\n",
              "      <th>ReelGood</th>\n",
              "      <th>Released Year</th>\n",
              "      <th>Seasons</th>\n",
              "      <th>Rent or Buy Available</th>\n",
              "      <th>Exclusive Service</th>\n",
              "      <th>Has Tag</th>\n",
              "    </tr>\n",
              "  </thead>\n",
              "  <tbody>\n",
              "    <tr>\n",
              "      <th>count</th>\n",
              "      <td>65474.000000</td>\n",
              "      <td>65077.000000</td>\n",
              "      <td>65413.000000</td>\n",
              "      <td>65474.000000</td>\n",
              "      <td>8911.000000</td>\n",
              "      <td>65474.000000</td>\n",
              "      <td>65474.000000</td>\n",
              "      <td>65474.000000</td>\n",
              "    </tr>\n",
              "    <tr>\n",
              "      <th>mean</th>\n",
              "      <td>251767.336546</td>\n",
              "      <td>6.193357</td>\n",
              "      <td>53.220124</td>\n",
              "      <td>2000.265602</td>\n",
              "      <td>4.421502</td>\n",
              "      <td>0.884870</td>\n",
              "      <td>0.199850</td>\n",
              "      <td>0.998702</td>\n",
              "    </tr>\n",
              "    <tr>\n",
              "      <th>std</th>\n",
              "      <td>132429.557126</td>\n",
              "      <td>1.327032</td>\n",
              "      <td>15.846098</td>\n",
              "      <td>20.931288</td>\n",
              "      <td>5.842651</td>\n",
              "      <td>0.319181</td>\n",
              "      <td>0.399891</td>\n",
              "      <td>0.036008</td>\n",
              "    </tr>\n",
              "    <tr>\n",
              "      <th>min</th>\n",
              "      <td>0.000000</td>\n",
              "      <td>1.400000</td>\n",
              "      <td>10.000000</td>\n",
              "      <td>1900.000000</td>\n",
              "      <td>1.000000</td>\n",
              "      <td>0.000000</td>\n",
              "      <td>0.000000</td>\n",
              "      <td>0.000000</td>\n",
              "    </tr>\n",
              "    <tr>\n",
              "      <th>25%</th>\n",
              "      <td>148140.500000</td>\n",
              "      <td>5.400000</td>\n",
              "      <td>40.000000</td>\n",
              "      <td>1994.000000</td>\n",
              "      <td>1.000000</td>\n",
              "      <td>1.000000</td>\n",
              "      <td>0.000000</td>\n",
              "      <td>1.000000</td>\n",
              "    </tr>\n",
              "    <tr>\n",
              "      <th>50%</th>\n",
              "      <td>259591.000000</td>\n",
              "      <td>6.400000</td>\n",
              "      <td>52.000000</td>\n",
              "      <td>2009.000000</td>\n",
              "      <td>3.000000</td>\n",
              "      <td>1.000000</td>\n",
              "      <td>0.000000</td>\n",
              "      <td>1.000000</td>\n",
              "    </tr>\n",
              "    <tr>\n",
              "      <th>75%</th>\n",
              "      <td>362164.250000</td>\n",
              "      <td>7.100000</td>\n",
              "      <td>65.000000</td>\n",
              "      <td>2014.000000</td>\n",
              "      <td>5.000000</td>\n",
              "      <td>1.000000</td>\n",
              "      <td>0.000000</td>\n",
              "      <td>1.000000</td>\n",
              "    </tr>\n",
              "    <tr>\n",
              "      <th>max</th>\n",
              "      <td>480066.000000</td>\n",
              "      <td>10.000000</td>\n",
              "      <td>100.000000</td>\n",
              "      <td>2020.000000</td>\n",
              "      <td>86.000000</td>\n",
              "      <td>1.000000</td>\n",
              "      <td>1.000000</td>\n",
              "      <td>1.000000</td>\n",
              "    </tr>\n",
              "  </tbody>\n",
              "</table>\n",
              "</div>\n",
              "      <button class=\"colab-df-convert\" onclick=\"convertToInteractive('df-3d9003cf-8bb1-413b-b537-12583c54dee1')\"\n",
              "              title=\"Convert this dataframe to an interactive table.\"\n",
              "              style=\"display:none;\">\n",
              "        \n",
              "  <svg xmlns=\"http://www.w3.org/2000/svg\" height=\"24px\"viewBox=\"0 0 24 24\"\n",
              "       width=\"24px\">\n",
              "    <path d=\"M0 0h24v24H0V0z\" fill=\"none\"/>\n",
              "    <path d=\"M18.56 5.44l.94 2.06.94-2.06 2.06-.94-2.06-.94-.94-2.06-.94 2.06-2.06.94zm-11 1L8.5 8.5l.94-2.06 2.06-.94-2.06-.94L8.5 2.5l-.94 2.06-2.06.94zm10 10l.94 2.06.94-2.06 2.06-.94-2.06-.94-.94-2.06-.94 2.06-2.06.94z\"/><path d=\"M17.41 7.96l-1.37-1.37c-.4-.4-.92-.59-1.43-.59-.52 0-1.04.2-1.43.59L10.3 9.45l-7.72 7.72c-.78.78-.78 2.05 0 2.83L4 21.41c.39.39.9.59 1.41.59.51 0 1.02-.2 1.41-.59l7.78-7.78 2.81-2.81c.8-.78.8-2.07 0-2.86zM5.41 20L4 18.59l7.72-7.72 1.47 1.35L5.41 20z\"/>\n",
              "  </svg>\n",
              "      </button>\n",
              "      \n",
              "  <style>\n",
              "    .colab-df-container {\n",
              "      display:flex;\n",
              "      flex-wrap:wrap;\n",
              "      gap: 12px;\n",
              "    }\n",
              "\n",
              "    .colab-df-convert {\n",
              "      background-color: #E8F0FE;\n",
              "      border: none;\n",
              "      border-radius: 50%;\n",
              "      cursor: pointer;\n",
              "      display: none;\n",
              "      fill: #1967D2;\n",
              "      height: 32px;\n",
              "      padding: 0 0 0 0;\n",
              "      width: 32px;\n",
              "    }\n",
              "\n",
              "    .colab-df-convert:hover {\n",
              "      background-color: #E2EBFA;\n",
              "      box-shadow: 0px 1px 2px rgba(60, 64, 67, 0.3), 0px 1px 3px 1px rgba(60, 64, 67, 0.15);\n",
              "      fill: #174EA6;\n",
              "    }\n",
              "\n",
              "    [theme=dark] .colab-df-convert {\n",
              "      background-color: #3B4455;\n",
              "      fill: #D2E3FC;\n",
              "    }\n",
              "\n",
              "    [theme=dark] .colab-df-convert:hover {\n",
              "      background-color: #434B5C;\n",
              "      box-shadow: 0px 1px 3px 1px rgba(0, 0, 0, 0.15);\n",
              "      filter: drop-shadow(0px 1px 2px rgba(0, 0, 0, 0.3));\n",
              "      fill: #FFFFFF;\n",
              "    }\n",
              "  </style>\n",
              "\n",
              "      <script>\n",
              "        const buttonEl =\n",
              "          document.querySelector('#df-3d9003cf-8bb1-413b-b537-12583c54dee1 button.colab-df-convert');\n",
              "        buttonEl.style.display =\n",
              "          google.colab.kernel.accessAllowed ? 'block' : 'none';\n",
              "\n",
              "        async function convertToInteractive(key) {\n",
              "          const element = document.querySelector('#df-3d9003cf-8bb1-413b-b537-12583c54dee1');\n",
              "          const dataTable =\n",
              "            await google.colab.kernel.invokeFunction('convertToInteractive',\n",
              "                                                     [key], {});\n",
              "          if (!dataTable) return;\n",
              "\n",
              "          const docLinkHtml = 'Like what you see? Visit the ' +\n",
              "            '<a target=\"_blank\" href=https://colab.research.google.com/notebooks/data_table.ipynb>data table notebook</a>'\n",
              "            + ' to learn more about interactive tables.';\n",
              "          element.innerHTML = '';\n",
              "          dataTable['output_type'] = 'display_data';\n",
              "          await google.colab.output.renderOutput(dataTable, element);\n",
              "          const docLink = document.createElement('div');\n",
              "          docLink.innerHTML = docLinkHtml;\n",
              "          element.appendChild(docLink);\n",
              "        }\n",
              "      </script>\n",
              "    </div>\n",
              "  </div>\n",
              "  "
            ]
          },
          "metadata": {},
          "execution_count": 25
        }
      ]
    },
    {
      "cell_type": "code",
      "source": [
        "df[\"What it's about\"].isnull().sum()"
      ],
      "metadata": {
        "colab": {
          "base_uri": "https://localhost:8080/"
        },
        "id": "sCQIhv6pd0tP",
        "outputId": "d7e032ff-2aea-48e0-b7dd-5c11552b5d31"
      },
      "execution_count": null,
      "outputs": [
        {
          "output_type": "execute_result",
          "data": {
            "text/plain": [
              "0"
            ]
          },
          "metadata": {},
          "execution_count": 26
        }
      ]
    },
    {
      "cell_type": "markdown",
      "source": [
        "# Adding Sentiment Score with textblob"
      ],
      "metadata": {
        "id": "dbkFXFzGYFjc"
      }
    },
    {
      "cell_type": "code",
      "source": [
        "from textblob import TextBlob"
      ],
      "metadata": {
        "id": "9enTykOEYKl2"
      },
      "execution_count": null,
      "outputs": []
    },
    {
      "cell_type": "code",
      "source": [
        "# What it's about\n",
        "\n",
        "df['text_blob_sentiment'] = np.array([TextBlob(summary).sentiment.polarity for summary in df[\"What it's about\"]])"
      ],
      "metadata": {
        "id": "-4CqW5cBYb4k"
      },
      "execution_count": null,
      "outputs": []
    },
    {
      "cell_type": "code",
      "source": [
        "df.sample(5)"
      ],
      "metadata": {
        "colab": {
          "base_uri": "https://localhost:8080/",
          "height": 687
        },
        "id": "9s6ZOrFxaRtY",
        "outputId": "3abccfe6-a706-47e5-efd3-1732bb387e35"
      },
      "execution_count": null,
      "outputs": [
        {
          "output_type": "execute_result",
          "data": {
            "text/plain": [
              "        Unnamed: 0                                              Title  \\\n",
              "36105       179385                                              Rabid   \n",
              "15325        66423                         The Adventures of Champion   \n",
              "115412      432946                                          Born Wild   \n",
              "29256       140034                               Island of Lost Souls   \n",
              "67276       306329  LEGO DC Comics Super Heroes: Batman: Be-Leaguered   \n",
              "\n",
              "                                                      URL    Type  \\\n",
              "36105                                   /movie/rabid-1977  movies   \n",
              "15325               /show/the-adventures-of-champion-1955      tv   \n",
              "115412                              /movie/born-wild-1995  movies   \n",
              "29256                    /movie/island-of-lost-souls-1932  movies   \n",
              "67276   /movie/lego-dc-comics-super-heroes-batman-be-l...  movies   \n",
              "\n",
              "               Service  IMDB  ReelGood AgeRating Rated  Released Year  \\\n",
              "36105   shoutfactorytv   6.3      67.0       18+     R           1977   \n",
              "15325             free   7.2      33.0       all  TV-G           1955   \n",
              "115412     popcornflix   5.6      34.0        7+    PG           1995   \n",
              "29256          peacock   7.4      73.0       NaN   NaN           1932   \n",
              "67276          netflix   6.6      49.0        7+    PG           2014   \n",
              "\n",
              "       Duration Year  Seasons  \\\n",
              "36105            NaN      NaN   \n",
              "15325      1955-2020      1.0   \n",
              "115412           NaN      NaN   \n",
              "29256            NaN      NaN   \n",
              "67276            NaN      NaN   \n",
              "\n",
              "                                          What it's about  \\\n",
              "36105   After undergoing radical surgery for injuries ...   \n",
              "15325   The Adventures of Champion follow a wild stall...   \n",
              "115412  A young documentary filmmaker working for a st...   \n",
              "29256   An obsessed scientist conducts profane experim...   \n",
              "67276   Superman wants Batman to join his new superher...   \n",
              "\n",
              "                                           Where to Watch  \\\n",
              "36105   Available to watch free online (Tubi & Popcorn...   \n",
              "15325   23 episodes (88%) are available to watch free ...   \n",
              "115412  Available to watch free online (PopcornFlix) &...   \n",
              "29256   Available to stream on a popular subscription ...   \n",
              "67276   Available to watch free online (Tubi) & stream...   \n",
              "\n",
              "        Rent or Buy Available  Exclusive Service  Has Tag  text_blob_sentiment  \n",
              "36105                       1                  0        1             0.012500  \n",
              "15325                       0                  0        1             0.008333  \n",
              "115412                      1                  0        1             0.050000  \n",
              "29256                       0                  1        1            -0.500000  \n",
              "67276                       0                  0        1             0.168182  "
            ],
            "text/html": [
              "\n",
              "  <div id=\"df-072900bb-a5a8-444f-9967-f863de294535\">\n",
              "    <div class=\"colab-df-container\">\n",
              "      <div>\n",
              "<style scoped>\n",
              "    .dataframe tbody tr th:only-of-type {\n",
              "        vertical-align: middle;\n",
              "    }\n",
              "\n",
              "    .dataframe tbody tr th {\n",
              "        vertical-align: top;\n",
              "    }\n",
              "\n",
              "    .dataframe thead th {\n",
              "        text-align: right;\n",
              "    }\n",
              "</style>\n",
              "<table border=\"1\" class=\"dataframe\">\n",
              "  <thead>\n",
              "    <tr style=\"text-align: right;\">\n",
              "      <th></th>\n",
              "      <th>Unnamed: 0</th>\n",
              "      <th>Title</th>\n",
              "      <th>URL</th>\n",
              "      <th>Type</th>\n",
              "      <th>Service</th>\n",
              "      <th>IMDB</th>\n",
              "      <th>ReelGood</th>\n",
              "      <th>AgeRating</th>\n",
              "      <th>Rated</th>\n",
              "      <th>Released Year</th>\n",
              "      <th>Duration Year</th>\n",
              "      <th>Seasons</th>\n",
              "      <th>What it's about</th>\n",
              "      <th>Where to Watch</th>\n",
              "      <th>Rent or Buy Available</th>\n",
              "      <th>Exclusive Service</th>\n",
              "      <th>Has Tag</th>\n",
              "      <th>text_blob_sentiment</th>\n",
              "    </tr>\n",
              "  </thead>\n",
              "  <tbody>\n",
              "    <tr>\n",
              "      <th>36105</th>\n",
              "      <td>179385</td>\n",
              "      <td>Rabid</td>\n",
              "      <td>/movie/rabid-1977</td>\n",
              "      <td>movies</td>\n",
              "      <td>shoutfactorytv</td>\n",
              "      <td>6.3</td>\n",
              "      <td>67.0</td>\n",
              "      <td>18+</td>\n",
              "      <td>R</td>\n",
              "      <td>1977</td>\n",
              "      <td>NaN</td>\n",
              "      <td>NaN</td>\n",
              "      <td>After undergoing radical surgery for injuries ...</td>\n",
              "      <td>Available to watch free online (Tubi &amp; Popcorn...</td>\n",
              "      <td>1</td>\n",
              "      <td>0</td>\n",
              "      <td>1</td>\n",
              "      <td>0.012500</td>\n",
              "    </tr>\n",
              "    <tr>\n",
              "      <th>15325</th>\n",
              "      <td>66423</td>\n",
              "      <td>The Adventures of Champion</td>\n",
              "      <td>/show/the-adventures-of-champion-1955</td>\n",
              "      <td>tv</td>\n",
              "      <td>free</td>\n",
              "      <td>7.2</td>\n",
              "      <td>33.0</td>\n",
              "      <td>all</td>\n",
              "      <td>TV-G</td>\n",
              "      <td>1955</td>\n",
              "      <td>1955-2020</td>\n",
              "      <td>1.0</td>\n",
              "      <td>The Adventures of Champion follow a wild stall...</td>\n",
              "      <td>23 episodes (88%) are available to watch free ...</td>\n",
              "      <td>0</td>\n",
              "      <td>0</td>\n",
              "      <td>1</td>\n",
              "      <td>0.008333</td>\n",
              "    </tr>\n",
              "    <tr>\n",
              "      <th>115412</th>\n",
              "      <td>432946</td>\n",
              "      <td>Born Wild</td>\n",
              "      <td>/movie/born-wild-1995</td>\n",
              "      <td>movies</td>\n",
              "      <td>popcornflix</td>\n",
              "      <td>5.6</td>\n",
              "      <td>34.0</td>\n",
              "      <td>7+</td>\n",
              "      <td>PG</td>\n",
              "      <td>1995</td>\n",
              "      <td>NaN</td>\n",
              "      <td>NaN</td>\n",
              "      <td>A young documentary filmmaker working for a st...</td>\n",
              "      <td>Available to watch free online (PopcornFlix) &amp;...</td>\n",
              "      <td>1</td>\n",
              "      <td>0</td>\n",
              "      <td>1</td>\n",
              "      <td>0.050000</td>\n",
              "    </tr>\n",
              "    <tr>\n",
              "      <th>29256</th>\n",
              "      <td>140034</td>\n",
              "      <td>Island of Lost Souls</td>\n",
              "      <td>/movie/island-of-lost-souls-1932</td>\n",
              "      <td>movies</td>\n",
              "      <td>peacock</td>\n",
              "      <td>7.4</td>\n",
              "      <td>73.0</td>\n",
              "      <td>NaN</td>\n",
              "      <td>NaN</td>\n",
              "      <td>1932</td>\n",
              "      <td>NaN</td>\n",
              "      <td>NaN</td>\n",
              "      <td>An obsessed scientist conducts profane experim...</td>\n",
              "      <td>Available to stream on a popular subscription ...</td>\n",
              "      <td>0</td>\n",
              "      <td>1</td>\n",
              "      <td>1</td>\n",
              "      <td>-0.500000</td>\n",
              "    </tr>\n",
              "    <tr>\n",
              "      <th>67276</th>\n",
              "      <td>306329</td>\n",
              "      <td>LEGO DC Comics Super Heroes: Batman: Be-Leaguered</td>\n",
              "      <td>/movie/lego-dc-comics-super-heroes-batman-be-l...</td>\n",
              "      <td>movies</td>\n",
              "      <td>netflix</td>\n",
              "      <td>6.6</td>\n",
              "      <td>49.0</td>\n",
              "      <td>7+</td>\n",
              "      <td>PG</td>\n",
              "      <td>2014</td>\n",
              "      <td>NaN</td>\n",
              "      <td>NaN</td>\n",
              "      <td>Superman wants Batman to join his new superher...</td>\n",
              "      <td>Available to watch free online (Tubi) &amp; stream...</td>\n",
              "      <td>0</td>\n",
              "      <td>0</td>\n",
              "      <td>1</td>\n",
              "      <td>0.168182</td>\n",
              "    </tr>\n",
              "  </tbody>\n",
              "</table>\n",
              "</div>\n",
              "      <button class=\"colab-df-convert\" onclick=\"convertToInteractive('df-072900bb-a5a8-444f-9967-f863de294535')\"\n",
              "              title=\"Convert this dataframe to an interactive table.\"\n",
              "              style=\"display:none;\">\n",
              "        \n",
              "  <svg xmlns=\"http://www.w3.org/2000/svg\" height=\"24px\"viewBox=\"0 0 24 24\"\n",
              "       width=\"24px\">\n",
              "    <path d=\"M0 0h24v24H0V0z\" fill=\"none\"/>\n",
              "    <path d=\"M18.56 5.44l.94 2.06.94-2.06 2.06-.94-2.06-.94-.94-2.06-.94 2.06-2.06.94zm-11 1L8.5 8.5l.94-2.06 2.06-.94-2.06-.94L8.5 2.5l-.94 2.06-2.06.94zm10 10l.94 2.06.94-2.06 2.06-.94-2.06-.94-.94-2.06-.94 2.06-2.06.94z\"/><path d=\"M17.41 7.96l-1.37-1.37c-.4-.4-.92-.59-1.43-.59-.52 0-1.04.2-1.43.59L10.3 9.45l-7.72 7.72c-.78.78-.78 2.05 0 2.83L4 21.41c.39.39.9.59 1.41.59.51 0 1.02-.2 1.41-.59l7.78-7.78 2.81-2.81c.8-.78.8-2.07 0-2.86zM5.41 20L4 18.59l7.72-7.72 1.47 1.35L5.41 20z\"/>\n",
              "  </svg>\n",
              "      </button>\n",
              "      \n",
              "  <style>\n",
              "    .colab-df-container {\n",
              "      display:flex;\n",
              "      flex-wrap:wrap;\n",
              "      gap: 12px;\n",
              "    }\n",
              "\n",
              "    .colab-df-convert {\n",
              "      background-color: #E8F0FE;\n",
              "      border: none;\n",
              "      border-radius: 50%;\n",
              "      cursor: pointer;\n",
              "      display: none;\n",
              "      fill: #1967D2;\n",
              "      height: 32px;\n",
              "      padding: 0 0 0 0;\n",
              "      width: 32px;\n",
              "    }\n",
              "\n",
              "    .colab-df-convert:hover {\n",
              "      background-color: #E2EBFA;\n",
              "      box-shadow: 0px 1px 2px rgba(60, 64, 67, 0.3), 0px 1px 3px 1px rgba(60, 64, 67, 0.15);\n",
              "      fill: #174EA6;\n",
              "    }\n",
              "\n",
              "    [theme=dark] .colab-df-convert {\n",
              "      background-color: #3B4455;\n",
              "      fill: #D2E3FC;\n",
              "    }\n",
              "\n",
              "    [theme=dark] .colab-df-convert:hover {\n",
              "      background-color: #434B5C;\n",
              "      box-shadow: 0px 1px 3px 1px rgba(0, 0, 0, 0.15);\n",
              "      filter: drop-shadow(0px 1px 2px rgba(0, 0, 0, 0.3));\n",
              "      fill: #FFFFFF;\n",
              "    }\n",
              "  </style>\n",
              "\n",
              "      <script>\n",
              "        const buttonEl =\n",
              "          document.querySelector('#df-072900bb-a5a8-444f-9967-f863de294535 button.colab-df-convert');\n",
              "        buttonEl.style.display =\n",
              "          google.colab.kernel.accessAllowed ? 'block' : 'none';\n",
              "\n",
              "        async function convertToInteractive(key) {\n",
              "          const element = document.querySelector('#df-072900bb-a5a8-444f-9967-f863de294535');\n",
              "          const dataTable =\n",
              "            await google.colab.kernel.invokeFunction('convertToInteractive',\n",
              "                                                     [key], {});\n",
              "          if (!dataTable) return;\n",
              "\n",
              "          const docLinkHtml = 'Like what you see? Visit the ' +\n",
              "            '<a target=\"_blank\" href=https://colab.research.google.com/notebooks/data_table.ipynb>data table notebook</a>'\n",
              "            + ' to learn more about interactive tables.';\n",
              "          element.innerHTML = '';\n",
              "          dataTable['output_type'] = 'display_data';\n",
              "          await google.colab.output.renderOutput(dataTable, element);\n",
              "          const docLink = document.createElement('div');\n",
              "          docLink.innerHTML = docLinkHtml;\n",
              "          element.appendChild(docLink);\n",
              "        }\n",
              "      </script>\n",
              "    </div>\n",
              "  </div>\n",
              "  "
            ]
          },
          "metadata": {},
          "execution_count": 31
        }
      ]
    },
    {
      "cell_type": "code",
      "source": [
        ""
      ],
      "metadata": {
        "id": "Knsb6-_WfJDQ"
      },
      "execution_count": null,
      "outputs": []
    },
    {
      "cell_type": "markdown",
      "source": [
        "# Addind sentiment score with huggingface"
      ],
      "metadata": {
        "id": "08u9l5kDfRcr"
      }
    },
    {
      "cell_type": "code",
      "source": [
        "pip install transformers"
      ],
      "metadata": {
        "colab": {
          "base_uri": "https://localhost:8080/"
        },
        "id": "FgAjDuksfrkB",
        "outputId": "8b43aaa1-a6bd-4f35-8153-dd3d9ead1fd8"
      },
      "execution_count": null,
      "outputs": [
        {
          "output_type": "stream",
          "name": "stdout",
          "text": [
            "Collecting transformers\n",
            "  Downloading transformers-4.18.0-py3-none-any.whl (4.0 MB)\n",
            "\u001b[K     |████████████████████████████████| 4.0 MB 29.4 MB/s \n",
            "\u001b[?25hCollecting tokenizers!=0.11.3,<0.13,>=0.11.1\n",
            "  Downloading tokenizers-0.12.1-cp37-cp37m-manylinux_2_12_x86_64.manylinux2010_x86_64.whl (6.6 MB)\n",
            "\u001b[K     |████████████████████████████████| 6.6 MB 58.5 MB/s \n",
            "\u001b[?25hRequirement already satisfied: regex!=2019.12.17 in /usr/local/lib/python3.7/dist-packages (from transformers) (2019.12.20)\n",
            "Collecting sacremoses\n",
            "  Downloading sacremoses-0.0.53.tar.gz (880 kB)\n",
            "\u001b[K     |████████████████████████████████| 880 kB 49.0 MB/s \n",
            "\u001b[?25hRequirement already satisfied: importlib-metadata in /usr/local/lib/python3.7/dist-packages (from transformers) (4.11.3)\n",
            "Collecting huggingface-hub<1.0,>=0.1.0\n",
            "  Downloading huggingface_hub-0.5.1-py3-none-any.whl (77 kB)\n",
            "\u001b[K     |████████████████████████████████| 77 kB 5.4 MB/s \n",
            "\u001b[?25hRequirement already satisfied: requests in /usr/local/lib/python3.7/dist-packages (from transformers) (2.23.0)\n",
            "Collecting pyyaml>=5.1\n",
            "  Downloading PyYAML-6.0-cp37-cp37m-manylinux_2_5_x86_64.manylinux1_x86_64.manylinux_2_12_x86_64.manylinux2010_x86_64.whl (596 kB)\n",
            "\u001b[K     |████████████████████████████████| 596 kB 50.4 MB/s \n",
            "\u001b[?25hRequirement already satisfied: packaging>=20.0 in /usr/local/lib/python3.7/dist-packages (from transformers) (21.3)\n",
            "Requirement already satisfied: numpy>=1.17 in /usr/local/lib/python3.7/dist-packages (from transformers) (1.21.6)\n",
            "Requirement already satisfied: filelock in /usr/local/lib/python3.7/dist-packages (from transformers) (3.6.0)\n",
            "Requirement already satisfied: tqdm>=4.27 in /usr/local/lib/python3.7/dist-packages (from transformers) (4.64.0)\n",
            "Requirement already satisfied: typing-extensions>=3.7.4.3 in /usr/local/lib/python3.7/dist-packages (from huggingface-hub<1.0,>=0.1.0->transformers) (4.2.0)\n",
            "Requirement already satisfied: pyparsing!=3.0.5,>=2.0.2 in /usr/local/lib/python3.7/dist-packages (from packaging>=20.0->transformers) (3.0.8)\n",
            "Requirement already satisfied: zipp>=0.5 in /usr/local/lib/python3.7/dist-packages (from importlib-metadata->transformers) (3.8.0)\n",
            "Requirement already satisfied: idna<3,>=2.5 in /usr/local/lib/python3.7/dist-packages (from requests->transformers) (2.10)\n",
            "Requirement already satisfied: urllib3!=1.25.0,!=1.25.1,<1.26,>=1.21.1 in /usr/local/lib/python3.7/dist-packages (from requests->transformers) (1.24.3)\n",
            "Requirement already satisfied: chardet<4,>=3.0.2 in /usr/local/lib/python3.7/dist-packages (from requests->transformers) (3.0.4)\n",
            "Requirement already satisfied: certifi>=2017.4.17 in /usr/local/lib/python3.7/dist-packages (from requests->transformers) (2021.10.8)\n",
            "Requirement already satisfied: six in /usr/local/lib/python3.7/dist-packages (from sacremoses->transformers) (1.15.0)\n",
            "Requirement already satisfied: click in /usr/local/lib/python3.7/dist-packages (from sacremoses->transformers) (7.1.2)\n",
            "Requirement already satisfied: joblib in /usr/local/lib/python3.7/dist-packages (from sacremoses->transformers) (1.1.0)\n",
            "Building wheels for collected packages: sacremoses\n",
            "  Building wheel for sacremoses (setup.py) ... \u001b[?25l\u001b[?25hdone\n",
            "  Created wheel for sacremoses: filename=sacremoses-0.0.53-py3-none-any.whl size=895260 sha256=10a84f55cfd2dda7d5b637369a9471e090fbc0fa742a5b5ab4998ceb34433ee4\n",
            "  Stored in directory: /root/.cache/pip/wheels/87/39/dd/a83eeef36d0bf98e7a4d1933a4ad2d660295a40613079bafc9\n",
            "Successfully built sacremoses\n",
            "Installing collected packages: pyyaml, tokenizers, sacremoses, huggingface-hub, transformers\n",
            "  Attempting uninstall: pyyaml\n",
            "    Found existing installation: PyYAML 3.13\n",
            "    Uninstalling PyYAML-3.13:\n",
            "      Successfully uninstalled PyYAML-3.13\n",
            "Successfully installed huggingface-hub-0.5.1 pyyaml-6.0 sacremoses-0.0.53 tokenizers-0.12.1 transformers-4.18.0\n"
          ]
        }
      ]
    },
    {
      "cell_type": "code",
      "source": [
        "from transformers import pipeline\n",
        "classifier = pipeline('sentiment-analysis')"
      ],
      "metadata": {
        "colab": {
          "base_uri": "https://localhost:8080/"
        },
        "id": "DoOK0__UfXBH",
        "outputId": "be33e9e1-5140-4a38-f467-02e69ea81cc8"
      },
      "execution_count": null,
      "outputs": [
        {
          "output_type": "stream",
          "name": "stderr",
          "text": [
            "No model was supplied, defaulted to distilbert-base-uncased-finetuned-sst-2-english (https://huggingface.co/distilbert-base-uncased-finetuned-sst-2-english)\n"
          ]
        }
      ]
    },
    {
      "cell_type": "code",
      "source": [
        "review_text = \"I did not hate anything about this movie!\"\n",
        "classifier(review_text)"
      ],
      "metadata": {
        "colab": {
          "base_uri": "https://localhost:8080/"
        },
        "id": "QpNqp4RAgGYY",
        "outputId": "d0b80e8f-33fa-4610-a830-29a1f4c98646"
      },
      "execution_count": null,
      "outputs": [
        {
          "output_type": "execute_result",
          "data": {
            "text/plain": [
              "[{'label': 'POSITIVE', 'score': 0.9978073239326477}]"
            ]
          },
          "metadata": {},
          "execution_count": 55
        }
      ]
    },
    {
      "cell_type": "code",
      "source": [
        "neg_text = \"I did not like one thing about this product!\"\n",
        "classifier(neg_text)"
      ],
      "metadata": {
        "colab": {
          "base_uri": "https://localhost:8080/"
        },
        "id": "qU6zogNtgPys",
        "outputId": "36b39321-8d0d-4716-fd51-cae43ab3ea1f"
      },
      "execution_count": null,
      "outputs": [
        {
          "output_type": "execute_result",
          "data": {
            "text/plain": [
              "[{'label': 'NEGATIVE', 'score': 0.9987735152244568}]"
            ]
          },
          "metadata": {},
          "execution_count": 56
        }
      ]
    },
    {
      "cell_type": "code",
      "source": [
        "classifier(neg_text)[0]['label']"
      ],
      "metadata": {
        "colab": {
          "base_uri": "https://localhost:8080/",
          "height": 35
        },
        "id": "5GPkD9d_h29N",
        "outputId": "a702e07a-07b6-4303-8f5c-51ce04a28a4a"
      },
      "execution_count": null,
      "outputs": [
        {
          "output_type": "execute_result",
          "data": {
            "text/plain": [
              "'NEGATIVE'"
            ],
            "application/vnd.google.colaboratory.intrinsic+json": {
              "type": "string"
            }
          },
          "metadata": {},
          "execution_count": 57
        }
      ]
    },
    {
      "cell_type": "code",
      "source": [
        "df['hugging_face_sentiment'] = np.array([classifier(summary)[0]['label'] for summary in df[\"What it's about\"]])"
      ],
      "metadata": {
        "id": "F7UsIjjUgQlo"
      },
      "execution_count": null,
      "outputs": []
    },
    {
      "cell_type": "code",
      "source": [
        "df.to_csv('/content/drive/Shareddrives/DS0 560 - Group Project/Reel Good Data (Title+Service+Sentiment).csv')"
      ],
      "metadata": {
        "id": "vrSy1Ouz61_-"
      },
      "execution_count": null,
      "outputs": []
    },
    {
      "cell_type": "markdown",
      "source": [
        ""
      ],
      "metadata": {
        "id": "Yu43wp6Q_nJ7"
      }
    }
  ]
}