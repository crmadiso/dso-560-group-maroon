{
 "cells": [
  {
   "cell_type": "code",
   "execution_count": 1,
   "metadata": {
    "colab": {
     "base_uri": "https://localhost:8080/"
    },
    "id": "YRcqgf5jJfK3",
    "outputId": "94d9a9f0-84bd-4c9b-9915-a30868cee476"
   },
   "outputs": [],
   "source": [
    "import os\n",
    "import numpy as np \n",
    "import pandas as pd\n",
    "# from google.colab import drive \n",
    "# drive.mount('/content/drive')\n",
    "# os.chdir(\"/content/drive/MyDrive/DSO560 NLP Group Project\")"
   ]
  },
  {
   "cell_type": "code",
   "execution_count": null,
   "metadata": {
    "colab": {
     "base_uri": "https://localhost:8080/"
    },
    "id": "vFdsQnXzJ4p8",
    "outputId": "0ce1b847-ef6d-4dd0-8c61-5994f1520138"
   },
   "outputs": [],
   "source": [
    "data = pd.read_csv(\"./Reel Good Data (Title+Service).csv\", index_col=0)\n",
    "data.shape"
   ]
  },
  {
   "cell_type": "markdown",
   "metadata": {
    "id": "SitMrM8hSWM3"
   },
   "source": [
    "## Data Cleaning & Prep "
   ]
  },
  {
   "cell_type": "markdown",
   "metadata": {
    "id": "I7yegqOITZFO"
   },
   "source": [
    "#### Step 1: Cleaning/Grouping the Dependent Variable"
   ]
  },
  {
   "cell_type": "markdown",
   "metadata": {
    "id": "qYS3JzsGSZt_"
   },
   "source": [
    "Our intent here is to predict which steaming provider is likely to purchase a given content produced by a production house. First we need to understand how many categories are there.  "
   ]
  },
  {
   "cell_type": "code",
   "execution_count": null,
   "metadata": {
    "colab": {
     "base_uri": "https://localhost:8080/",
     "height": 419
    },
    "id": "op3viO99NuTy",
    "outputId": "58047655-47a5-491d-cd06-e9766d857465"
   },
   "outputs": [],
   "source": [
    "data.groupby(['Service']).size().reset_index(name='counts')"
   ]
  },
  {
   "cell_type": "markdown",
   "metadata": {
    "id": "IAIPkPNzSxRm"
   },
   "source": [
    "***Clearly, there are too many providers and some of these providers can be grouped - Foe example \"crunchyroll\" and \"crunchyroll free\" can be grouped together (Since crunchyroll would have to liscence or buy exclusive rights in order to stream a given content on its platform regardless of weather its free to view or paid)***\n",
    "\n",
    "The grouping rules followed were as follows:\n",
    "\n",
    "1. Multiple providers listed for the same website/service. Eg. \"crunchyroll\" & \"crunchyroll free\".\n",
    "\n",
    "2. Streming serivice providers with low number of titles were grouped with other providers - on the condition that the **content they were streming were similar**. Eg. \"crunchyroll\" & \"funimation\" both cater to an Anime watching audience, and both had less than 500 titles under each - therefore were grouped together. \n",
    "\n",
    "3. Domain Knowledge - From reserach we know that certain streamining providers operate under different entities. They were grouped together to lessen the sparsity of data under a given streming category. Eg. \"disneyplus\", \"disneynow\" & \"disneynow free\"\n",
    "\n",
    "Detailed Grouping Referrence List is availble in Grouping&DataEliminationRef.csv"
   ]
  },
  {
   "cell_type": "code",
   "execution_count": 1,
   "metadata": {
    "colab": {
     "base_uri": "https://localhost:8080/"
    },
    "id": "iWtgWjubMd5a",
    "outputId": "f348cb5b-4a13-4d14-8e8c-d997676d06c5"
   },
   "outputs": [
    {
     "name": "stderr",
     "output_type": "stream",
     "text": [
      "/opt/anaconda3/lib/python3.9/site-packages/IPython/core/interactiveshell.py:3444: DtypeWarning: Columns (9) have mixed types.Specify dtype option on import or set low_memory=False.\n",
      "  exec(code_obj, self.user_global_ns, self.user_ns)\n"
     ]
    },
    {
     "data": {
      "text/plain": [
       "(40651, 18)"
      ]
     },
     "execution_count": 1,
     "metadata": {},
     "output_type": "execute_result"
    }
   ],
   "source": [
    "##Reading The grouped File in\n",
    "import pandas as pd\n",
    "import numpy as np\n",
    "data = pd.read_csv(\"./ProjectData_Chris_1.csv\")\n",
    "data.shape"
   ]
  },
  {
   "cell_type": "markdown",
   "metadata": {
    "id": "illqYBaKp4mh"
   },
   "source": [
    "**EDA on providers and the titles under each provider was performed. Data related to certain streaming providers was dropped during the EDA phase. The conditions used while dropping rows were as follows**:\n",
    "\n",
    "\n",
    "1. Streming provider/Group (in cases where streming providers were grouped as a single entity) had less than 1000 titles in the underlying data. \n",
    "\n",
    "2. Streming provider Categories of \"Rent or Buy\" & \"free\" because they were not related or required for the business case we are solving for \n",
    "\n",
    "  The column **Selected Data** is a flag created that identifies rows that meet the above two conditions. \n",
    "\n",
    "  The column **Streming Group** is the Streming Group created or the streming provider(for cases that we could not group)\n",
    "\n",
    "\n",
    "3. In addition to the above set, Any rows of data with a \"What is it about?\" blank was eliminated - as the document details were unavialble. "
   ]
  },
  {
   "cell_type": "code",
   "execution_count": 1,
   "metadata": {
    "colab": {
     "base_uri": "https://localhost:8080/"
    },
    "id": "9DpoIvcKd-jt",
    "outputId": "3747e939-bc36-44fc-c698-44b686df1f0e"
   },
   "outputs": [],
   "source": [
    "data = data[(data['Selected Data']=='to_take') & (data[\"What it's about\"].notna())]\n",
    "data.shape"
   ]
  },
  {
   "cell_type": "markdown",
   "metadata": {
    "id": "9KLTAwmgBiao"
   },
   "source": [
    "#### Step 2: Data Cleaning on the Documents "
   ]
  },
  {
   "cell_type": "markdown",
   "metadata": {
    "id": "9z-w8C_eMky1"
   },
   "source": [
    "We performed the following treatments for Data Passed to ML models\n",
    "\n",
    "- Standardized the text to lowercase, lemmatizing it & removing stopwords\n",
    "\n",
    "- Replace urls, hastags numbers, emails, emojis, currency_symbols\n",
    "\n",
    "- Removed Punctuation\n",
    "\n",
    "The resulting cleaned documents were stored in CleandDocs_ML field"
   ]
  },
  {
   "cell_type": "code",
   "execution_count": 3,
   "metadata": {
    "id": "94s9w_XyDubz"
   },
   "outputs": [],
   "source": [
    "#!pip install textacy\n",
    "#!python -m spacy download en_core_web_sm"
   ]
  },
  {
   "cell_type": "code",
   "execution_count": 4,
   "metadata": {
    "id": "3u43QoxWCLri"
   },
   "outputs": [],
   "source": [
    "from textacy.preprocessing.replace import urls, hashtags, numbers, emails, emojis, currency_symbols\n",
    "from textacy.preprocessing.remove import punctuation\n",
    "#import en_core_web_sm\n",
    "import spacy\n",
    "from scipy.spatial.distance import cosine\n",
    "import spacy\n",
    "#Language class with the English model 'en_core_web_sm' is loaded\n",
    "#!python -m spacy download en\n",
    "import spacy\n",
    "sp = spacy.load('en_core_web_sm')\n",
    "all_stopwords = sp.Defaults.stop_words"
   ]
  },
  {
   "cell_type": "code",
   "execution_count": 5,
   "metadata": {},
   "outputs": [],
   "source": [
    "load_model = spacy.load('en_core_web_sm', disable = ['parser','ner'])\n",
    "def lemmatizer_new(My_text):\n",
    "    doc = load_model(My_text)\n",
    "    return(\" \".join([token.lemma_ for token in doc]))"
   ]
  },
  {
   "cell_type": "code",
   "execution_count": 6,
   "metadata": {
    "colab": {
     "base_uri": "https://localhost:8080/"
    },
    "id": "6uv9aAiJpquE",
    "outputId": "aca17cc1-11b4-4ff2-8855-4174cc12fd28"
   },
   "outputs": [],
   "source": [
    "data['CleanedDocs_ML']=data[\"What it's about\"].str.lower()\n",
    "data[\"CleanedDocs_ML\"] = data.CleanedDocs_ML.apply(urls).\\\n",
    "  apply(hashtags).\\\n",
    "  apply(numbers).\\\n",
    "  apply(currency_symbols).\\\n",
    "  apply(emojis).\\\n",
    "  apply(emails).\\\n",
    "  apply(punctuation).\\\n",
    "  apply(lemmatizer_new)\n",
    "data[\"CleanedDocs_ML\"] = data[\"CleanedDocs_ML\"].apply(lambda x: ' '.join([word for word in str(x).split() if word not in (all_stopwords)]))\n",
    "\n",
    "data.CleanedDocs_ML[:5]\n",
    "\n",
    "#Final check to see if any rows were dropped in preprocessing - Rows not processed by SPacy Language model may be dropped\n",
    "data = data[(data['Selected Data']=='to_take') & (data[\"CleanedDocs_ML\"].notna())]\n",
    "data.to_csv('ProjectData_Saketh.csv')"
   ]
  },
  {
   "cell_type": "code",
   "execution_count": 7,
   "metadata": {},
   "outputs": [
    {
     "data": {
      "text/plain": [
       "(40651, 19)"
      ]
     },
     "execution_count": 7,
     "metadata": {},
     "output_type": "execute_result"
    }
   ],
   "source": [
    "data.shape"
   ]
  },
  {
   "cell_type": "markdown",
   "metadata": {},
   "source": [
    "## Further Data Cleaning"
   ]
  },
  {
   "cell_type": "code",
   "execution_count": 2,
   "metadata": {},
   "outputs": [
    {
     "name": "stderr",
     "output_type": "stream",
     "text": [
      "/Users/levitas/opt/anaconda3/lib/python3.8/site-packages/IPython/core/interactiveshell.py:3172: DtypeWarning: Columns (10) have mixed types.Specify dtype option on import or set low_memory=False.\n",
      "  has_raised = await self.run_ast_nodes(code_ast.body, cell_name,\n"
     ]
    },
    {
     "data": {
      "text/plain": [
       "(40651, 20)"
      ]
     },
     "execution_count": 2,
     "metadata": {},
     "output_type": "execute_result"
    }
   ],
   "source": [
    "##Reading The grouped File in\n",
    "\n",
    "data = pd.read_csv(\"ProjectData_Saketh.csv\")\n",
    "data.shape"
   ]
  },
  {
   "cell_type": "code",
   "execution_count": 3,
   "metadata": {},
   "outputs": [
    {
     "data": {
      "text/html": [
       "<div>\n",
       "<style scoped>\n",
       "    .dataframe tbody tr th:only-of-type {\n",
       "        vertical-align: middle;\n",
       "    }\n",
       "\n",
       "    .dataframe tbody tr th {\n",
       "        vertical-align: top;\n",
       "    }\n",
       "\n",
       "    .dataframe thead th {\n",
       "        text-align: right;\n",
       "    }\n",
       "</style>\n",
       "<table border=\"1\" class=\"dataframe\">\n",
       "  <thead>\n",
       "    <tr style=\"text-align: right;\">\n",
       "      <th></th>\n",
       "      <th>Title</th>\n",
       "      <th>Type</th>\n",
       "      <th>Service</th>\n",
       "      <th>IMDB</th>\n",
       "      <th>ReelGood</th>\n",
       "      <th>AgeRating</th>\n",
       "      <th>Released Year</th>\n",
       "      <th>Seasons</th>\n",
       "      <th>What it's about</th>\n",
       "      <th>Exclusive Service</th>\n",
       "      <th>Streaming Group</th>\n",
       "      <th>Selected Data</th>\n",
       "      <th>CleanedDocs_ML</th>\n",
       "    </tr>\n",
       "  </thead>\n",
       "  <tbody>\n",
       "    <tr>\n",
       "      <th>0</th>\n",
       "      <td>Breaking Bad</td>\n",
       "      <td>tv</td>\n",
       "      <td>netflix</td>\n",
       "      <td>9.5</td>\n",
       "      <td>100.0</td>\n",
       "      <td>18</td>\n",
       "      <td>2008</td>\n",
       "      <td>5.0</td>\n",
       "      <td>When Walter White, a New Mexico chemistry teac...</td>\n",
       "      <td>0</td>\n",
       "      <td>netflix</td>\n",
       "      <td>to_take</td>\n",
       "      <td>walter white new mexico chemistry teacher diag...</td>\n",
       "    </tr>\n",
       "  </tbody>\n",
       "</table>\n",
       "</div>"
      ],
      "text/plain": [
       "          Title Type  Service  IMDB  ReelGood AgeRating  Released Year  \\\n",
       "0  Breaking Bad   tv  netflix   9.5     100.0        18           2008   \n",
       "\n",
       "   Seasons                                    What it's about  \\\n",
       "0      5.0  When Walter White, a New Mexico chemistry teac...   \n",
       "\n",
       "   Exclusive Service Streaming Group Selected Data  \\\n",
       "0                  0         netflix       to_take   \n",
       "\n",
       "                                      CleanedDocs_ML  \n",
       "0  walter white new mexico chemistry teacher diag...  "
      ]
     },
     "execution_count": 3,
     "metadata": {},
     "output_type": "execute_result"
    }
   ],
   "source": [
    "data = data.drop(['Unnamed: 0', 'URL', 'Rated', 'Duration Year', 'Where to Watch', 'Rent or Buy Available', 'Has Tag'], axis = 1)\n",
    "data['IMDB']=data['IMDB'].astype(float)\n",
    "data.head(1)"
   ]
  },
  {
   "cell_type": "markdown",
   "metadata": {},
   "source": [
    "### One-Hot Encoding and Imputation"
   ]
  },
  {
   "cell_type": "markdown",
   "metadata": {},
   "source": [
    "For the AgeRating and Type variables, because they are categorical variables, we will replace nulls values with the mode instead of the mean. Methods such as KNN are also an option for imputing these values."
   ]
  },
  {
   "cell_type": "code",
   "execution_count": 4,
   "metadata": {},
   "outputs": [
    {
     "data": {
      "text/plain": [
       "0        18\n",
       "1        18\n",
       "2        18\n",
       "3        18\n",
       "4        18\n",
       "         ..\n",
       "40646    18\n",
       "40647    13\n",
       "40648    13\n",
       "40649     7\n",
       "40650    18\n",
       "Name: AgeRating, Length: 40651, dtype: object"
      ]
     },
     "execution_count": 4,
     "metadata": {},
     "output_type": "execute_result"
    }
   ],
   "source": [
    "data['AgeRating'] = data['AgeRating'].fillna(data['AgeRating'].mode()[0])\n",
    "\n",
    "#values after imputation\n",
    "data['AgeRating']"
   ]
  },
  {
   "cell_type": "code",
   "execution_count": 5,
   "metadata": {},
   "outputs": [
    {
     "data": {
      "text/plain": [
       "0"
      ]
     },
     "execution_count": 5,
     "metadata": {},
     "output_type": "execute_result"
    }
   ],
   "source": [
    "data['AgeRating'].isna().sum()"
   ]
  },
  {
   "cell_type": "code",
   "execution_count": 6,
   "metadata": {},
   "outputs": [
    {
     "data": {
      "text/plain": [
       "{'13', '16', '18', '7', 'all'}"
      ]
     },
     "execution_count": 6,
     "metadata": {},
     "output_type": "execute_result"
    }
   ],
   "source": [
    "set(data['AgeRating'].values)"
   ]
  },
  {
   "cell_type": "code",
   "execution_count": 7,
   "metadata": {},
   "outputs": [
    {
     "data": {
      "text/plain": [
       "0            tv\n",
       "1            tv\n",
       "2            tv\n",
       "3            tv\n",
       "4            tv\n",
       "          ...  \n",
       "40646    movies\n",
       "40647    movies\n",
       "40648    movies\n",
       "40649    movies\n",
       "40650    movies\n",
       "Name: Type, Length: 40651, dtype: object"
      ]
     },
     "execution_count": 7,
     "metadata": {},
     "output_type": "execute_result"
    }
   ],
   "source": [
    "data['Type'] = data['Type'].fillna(data['Type'].mode()[0])\n",
    "\n",
    "#values after imputation\n",
    "data['Type']"
   ]
  },
  {
   "cell_type": "code",
   "execution_count": 8,
   "metadata": {},
   "outputs": [
    {
     "data": {
      "text/plain": [
       "0"
      ]
     },
     "execution_count": 8,
     "metadata": {},
     "output_type": "execute_result"
    }
   ],
   "source": [
    "data['Type'].isna().sum()"
   ]
  },
  {
   "cell_type": "code",
   "execution_count": 9,
   "metadata": {
    "scrolled": true
   },
   "outputs": [
    {
     "data": {
      "text/plain": [
       "{'movies', 'tv'}"
      ]
     },
     "execution_count": 9,
     "metadata": {},
     "output_type": "execute_result"
    }
   ],
   "source": [
    "set(data['Type'].values)"
   ]
  },
  {
   "cell_type": "code",
   "execution_count": 10,
   "metadata": {
    "scrolled": true
   },
   "outputs": [
    {
     "data": {
      "text/plain": [
       "Index(['Title', 'Service', 'IMDB', 'ReelGood', 'Released Year', 'Seasons',\n",
       "       'What it's about', 'Exclusive Service', 'Streaming Group',\n",
       "       'Selected Data', 'CleanedDocs_ML', 'AgeRating_13', 'AgeRating_16',\n",
       "       'AgeRating_18', 'AgeRating_7', 'AgeRating_all', 'Type_movies',\n",
       "       'Type_tv'],\n",
       "      dtype='object')"
      ]
     },
     "execution_count": 10,
     "metadata": {},
     "output_type": "execute_result"
    }
   ],
   "source": [
    "#creating dummy variables for the AgeRating column\n",
    "\n",
    "data[\"AgeRating\"] = data[\"AgeRating\"].astype(str)\n",
    "data[\"Type\"] = data[\"Type\"].astype(str)\n",
    "\n",
    "data = pd.get_dummies(data, columns = [\"AgeRating\", \"Type\"])\n",
    "\n",
    "data.columns"
   ]
  },
  {
   "cell_type": "code",
   "execution_count": 11,
   "metadata": {},
   "outputs": [
    {
     "data": {
      "text/plain": [
       "(40413, 18)"
      ]
     },
     "execution_count": 11,
     "metadata": {},
     "output_type": "execute_result"
    }
   ],
   "source": [
    "data = data.drop_duplicates()\n",
    "data.shape"
   ]
  },
  {
   "cell_type": "markdown",
   "metadata": {},
   "source": [
    "### Imputation Continued (Numerical Variables)"
   ]
  },
  {
   "cell_type": "markdown",
   "metadata": {},
   "source": [
    "In the code below, we are replacing the null values with the mean of the variable for the select numerical variables. Note that there are other ways to impute these numbers (such as KNN), but for the sake of time and simplicity we will use the average."
   ]
  },
  {
   "cell_type": "code",
   "execution_count": 12,
   "metadata": {
    "scrolled": false
   },
   "outputs": [
    {
     "name": "stdout",
     "output_type": "stream",
     "text": [
      "0        9.500000\n",
      "1        9.300000\n",
      "2        9.300000\n",
      "3        9.200000\n",
      "4        9.200000\n",
      "           ...   \n",
      "40646    6.202241\n",
      "40647    6.202241\n",
      "40648    6.202241\n",
      "40649    6.202241\n",
      "40650    6.202241\n",
      "Name: IMDB, Length: 40413, dtype: float64 \n",
      "\n",
      "0        100.000000\n",
      "1         98.000000\n",
      "2         98.000000\n",
      "3         96.000000\n",
      "4         96.000000\n",
      "            ...    \n",
      "40646     53.981645\n",
      "40647     53.981645\n",
      "40648     53.981645\n",
      "40649     53.981645\n",
      "40650     13.000000\n",
      "Name: ReelGood, Length: 40413, dtype: float64 \n",
      "\n",
      "0        2008\n",
      "1        2011\n",
      "2        2011\n",
      "3        2013\n",
      "4        2013\n",
      "         ... \n",
      "40646    2015\n",
      "40647    2014\n",
      "40648    2014\n",
      "40649    2011\n",
      "40650    2016\n",
      "Name: Released Year, Length: 40413, dtype: int64 \n",
      "\n",
      "0        5.00000\n",
      "1        8.00000\n",
      "2        8.00000\n",
      "3        4.00000\n",
      "4        4.00000\n",
      "          ...   \n",
      "40646    4.13987\n",
      "40647    4.13987\n",
      "40648    4.13987\n",
      "40649    4.13987\n",
      "40650    4.13987\n",
      "Name: Seasons, Length: 40413, dtype: float64 \n",
      "\n"
     ]
    }
   ],
   "source": [
    "mean_columns = ['IMDB', 'ReelGood','Released Year','Seasons']\n",
    "\n",
    "#replacing all null values with the respective means for each variable\n",
    "for i in mean_columns:\n",
    "    data[i] = data[i].fillna(data[i].mean())\n",
    "    print(data[i],\"\\n\")"
   ]
  },
  {
   "cell_type": "code",
   "execution_count": 13,
   "metadata": {
    "scrolled": true
   },
   "outputs": [
    {
     "name": "stdout",
     "output_type": "stream",
     "text": [
      "0\n",
      "0\n",
      "0\n",
      "0\n"
     ]
    }
   ],
   "source": [
    "#confirming that there are no nulls left in those columns\n",
    "for i in mean_columns:\n",
    "    print(data[i].isna().sum())"
   ]
  },
  {
   "cell_type": "markdown",
   "metadata": {},
   "source": [
    "### De-duping"
   ]
  },
  {
   "cell_type": "code",
   "execution_count": 15,
   "metadata": {
    "scrolled": true
   },
   "outputs": [
    {
     "data": {
      "text/plain": [
       "Index(['Title', 'Service', 'IMDB', 'ReelGood', 'Released Year', 'Seasons',\n",
       "       'What it's about', 'Exclusive Service', 'Streaming Group',\n",
       "       'Selected Data', 'CleanedDocs_ML', 'AgeRating_13', 'AgeRating_16',\n",
       "       'AgeRating_18', 'AgeRating_7', 'AgeRating_all', 'Type_movies',\n",
       "       'Type_tv'],\n",
       "      dtype='object')"
      ]
     },
     "execution_count": 15,
     "metadata": {},
     "output_type": "execute_result"
    }
   ],
   "source": [
    "data.columns"
   ]
  },
  {
   "cell_type": "code",
   "execution_count": 16,
   "metadata": {
    "scrolled": true
   },
   "outputs": [
    {
     "name": "stderr",
     "output_type": "stream",
     "text": [
      "<ipython-input-16-5fca91199531>:2: FutureWarning: Indexing with multiple keys (implicitly converted to a tuple of keys) will be deprecated, use a list instead.\n",
      "  df1=data.groupby(['CleanedDocs_ML','Streaming Group','AgeRating_13', 'AgeRating_16',\n"
     ]
    },
    {
     "data": {
      "text/plain": [
       "Index(['IMDB', 'ReelGood', 'Released Year', 'Exclusive Service'], dtype='object')"
      ]
     },
     "execution_count": 16,
     "metadata": {},
     "output_type": "execute_result"
    }
   ],
   "source": [
    "#df=data[['CleanedDocs_ML','Streaming Group','Released Year']].drop_duplicates()\n",
    "df1=data.groupby(['CleanedDocs_ML','Streaming Group','AgeRating_13', 'AgeRating_16',\n",
    "       'AgeRating_18', 'AgeRating_7', 'AgeRating_all', 'Type_movies',\n",
    "       'Type_tv'])['IMDB','ReelGood', 'Released Year', 'Exclusive Service'].max()\n",
    "#df1=pd.DataFrame(df1)\n",
    "data = df1\n",
    "data.columns"
   ]
  },
  {
   "cell_type": "code",
   "execution_count": 19,
   "metadata": {},
   "outputs": [
    {
     "data": {
      "text/html": [
       "<div>\n",
       "<style scoped>\n",
       "    .dataframe tbody tr th:only-of-type {\n",
       "        vertical-align: middle;\n",
       "    }\n",
       "\n",
       "    .dataframe tbody tr th {\n",
       "        vertical-align: top;\n",
       "    }\n",
       "\n",
       "    .dataframe thead th {\n",
       "        text-align: right;\n",
       "    }\n",
       "</style>\n",
       "<table border=\"1\" class=\"dataframe\">\n",
       "  <thead>\n",
       "    <tr style=\"text-align: right;\">\n",
       "      <th></th>\n",
       "      <th>CleanedDocs_ML</th>\n",
       "      <th>Streaming Group</th>\n",
       "      <th>AgeRating_13</th>\n",
       "      <th>AgeRating_16</th>\n",
       "      <th>AgeRating_18</th>\n",
       "      <th>AgeRating_7</th>\n",
       "      <th>AgeRating_all</th>\n",
       "      <th>Type_movies</th>\n",
       "      <th>Type_tv</th>\n",
       "      <th>IMDB</th>\n",
       "      <th>ReelGood</th>\n",
       "      <th>Released Year</th>\n",
       "      <th>Exclusive Service</th>\n",
       "    </tr>\n",
       "  </thead>\n",
       "  <tbody>\n",
       "    <tr>\n",
       "      <th>0</th>\n",
       "      <td>100th anniversary original voyage modern luxur...</td>\n",
       "      <td>hoopla/kanopy</td>\n",
       "      <td>0</td>\n",
       "      <td>0</td>\n",
       "      <td>1</td>\n",
       "      <td>0</td>\n",
       "      <td>0</td>\n",
       "      <td>1</td>\n",
       "      <td>0</td>\n",
       "      <td>1.6</td>\n",
       "      <td>36.0</td>\n",
       "      <td>2010</td>\n",
       "      <td>0</td>\n",
       "    </tr>\n",
       "    <tr>\n",
       "      <th>1</th>\n",
       "      <td>100th anniversary original voyage modern luxur...</td>\n",
       "      <td>plex_free</td>\n",
       "      <td>0</td>\n",
       "      <td>0</td>\n",
       "      <td>1</td>\n",
       "      <td>0</td>\n",
       "      <td>0</td>\n",
       "      <td>1</td>\n",
       "      <td>0</td>\n",
       "      <td>1.6</td>\n",
       "      <td>36.0</td>\n",
       "      <td>2010</td>\n",
       "      <td>0</td>\n",
       "    </tr>\n",
       "    <tr>\n",
       "      <th>2</th>\n",
       "      <td>100th anniversary original voyage modern luxur...</td>\n",
       "      <td>plutotv</td>\n",
       "      <td>0</td>\n",
       "      <td>0</td>\n",
       "      <td>1</td>\n",
       "      <td>0</td>\n",
       "      <td>0</td>\n",
       "      <td>1</td>\n",
       "      <td>0</td>\n",
       "      <td>1.6</td>\n",
       "      <td>36.0</td>\n",
       "      <td>2010</td>\n",
       "      <td>0</td>\n",
       "    </tr>\n",
       "    <tr>\n",
       "      <th>3</th>\n",
       "      <td>100th anniversary original voyage modern luxur...</td>\n",
       "      <td>tubi_tv</td>\n",
       "      <td>0</td>\n",
       "      <td>0</td>\n",
       "      <td>1</td>\n",
       "      <td>0</td>\n",
       "      <td>0</td>\n",
       "      <td>1</td>\n",
       "      <td>0</td>\n",
       "      <td>1.6</td>\n",
       "      <td>36.0</td>\n",
       "      <td>2010</td>\n",
       "      <td>0</td>\n",
       "    </tr>\n",
       "    <tr>\n",
       "      <th>4</th>\n",
       "      <td>100th anniversary original voyage modern luxur...</td>\n",
       "      <td>vudu_free</td>\n",
       "      <td>0</td>\n",
       "      <td>0</td>\n",
       "      <td>1</td>\n",
       "      <td>0</td>\n",
       "      <td>0</td>\n",
       "      <td>1</td>\n",
       "      <td>0</td>\n",
       "      <td>1.6</td>\n",
       "      <td>36.0</td>\n",
       "      <td>2010</td>\n",
       "      <td>0</td>\n",
       "    </tr>\n",
       "    <tr>\n",
       "      <th>...</th>\n",
       "      <td>...</td>\n",
       "      <td>...</td>\n",
       "      <td>...</td>\n",
       "      <td>...</td>\n",
       "      <td>...</td>\n",
       "      <td>...</td>\n",
       "      <td>...</td>\n",
       "      <td>...</td>\n",
       "      <td>...</td>\n",
       "      <td>...</td>\n",
       "      <td>...</td>\n",
       "      <td>...</td>\n",
       "      <td>...</td>\n",
       "    </tr>\n",
       "    <tr>\n",
       "      <th>35719</th>\n",
       "      <td>zooni ali beg kajol blind kashmiri girl travel...</td>\n",
       "      <td>amazon</td>\n",
       "      <td>0</td>\n",
       "      <td>0</td>\n",
       "      <td>0</td>\n",
       "      <td>1</td>\n",
       "      <td>0</td>\n",
       "      <td>1</td>\n",
       "      <td>0</td>\n",
       "      <td>7.2</td>\n",
       "      <td>79.0</td>\n",
       "      <td>2006</td>\n",
       "      <td>0</td>\n",
       "    </tr>\n",
       "    <tr>\n",
       "      <th>35720</th>\n",
       "      <td>ömer police officer death fiancée suffer great...</td>\n",
       "      <td>netflix</td>\n",
       "      <td>0</td>\n",
       "      <td>0</td>\n",
       "      <td>1</td>\n",
       "      <td>0</td>\n",
       "      <td>0</td>\n",
       "      <td>0</td>\n",
       "      <td>1</td>\n",
       "      <td>7.2</td>\n",
       "      <td>66.0</td>\n",
       "      <td>2014</td>\n",
       "      <td>1</td>\n",
       "    </tr>\n",
       "    <tr>\n",
       "      <th>35721</th>\n",
       "      <td>ötztal alp number year ago neolithic clan lead...</td>\n",
       "      <td>hoopla/kanopy</td>\n",
       "      <td>0</td>\n",
       "      <td>0</td>\n",
       "      <td>1</td>\n",
       "      <td>0</td>\n",
       "      <td>0</td>\n",
       "      <td>1</td>\n",
       "      <td>0</td>\n",
       "      <td>6.3</td>\n",
       "      <td>61.0</td>\n",
       "      <td>2017</td>\n",
       "      <td>0</td>\n",
       "    </tr>\n",
       "    <tr>\n",
       "      <th>35722</th>\n",
       "      <td>žižek trail thinker crisscross globe race new ...</td>\n",
       "      <td>fandor</td>\n",
       "      <td>0</td>\n",
       "      <td>0</td>\n",
       "      <td>1</td>\n",
       "      <td>0</td>\n",
       "      <td>0</td>\n",
       "      <td>1</td>\n",
       "      <td>0</td>\n",
       "      <td>7.3</td>\n",
       "      <td>58.0</td>\n",
       "      <td>2005</td>\n",
       "      <td>1</td>\n",
       "    </tr>\n",
       "    <tr>\n",
       "      <th>35723</th>\n",
       "      <td>مسرحية استعراضية غنائية مأخوذة عن قصه هالة وال...</td>\n",
       "      <td>amazon</td>\n",
       "      <td>0</td>\n",
       "      <td>0</td>\n",
       "      <td>1</td>\n",
       "      <td>0</td>\n",
       "      <td>0</td>\n",
       "      <td>1</td>\n",
       "      <td>0</td>\n",
       "      <td>6.1</td>\n",
       "      <td>34.0</td>\n",
       "      <td>2009</td>\n",
       "      <td>0</td>\n",
       "    </tr>\n",
       "  </tbody>\n",
       "</table>\n",
       "<p>35724 rows × 13 columns</p>\n",
       "</div>"
      ],
      "text/plain": [
       "                                          CleanedDocs_ML Streaming Group  \\\n",
       "0      100th anniversary original voyage modern luxur...   hoopla/kanopy   \n",
       "1      100th anniversary original voyage modern luxur...       plex_free   \n",
       "2      100th anniversary original voyage modern luxur...         plutotv   \n",
       "3      100th anniversary original voyage modern luxur...         tubi_tv   \n",
       "4      100th anniversary original voyage modern luxur...       vudu_free   \n",
       "...                                                  ...             ...   \n",
       "35719  zooni ali beg kajol blind kashmiri girl travel...          amazon   \n",
       "35720  ömer police officer death fiancée suffer great...         netflix   \n",
       "35721  ötztal alp number year ago neolithic clan lead...   hoopla/kanopy   \n",
       "35722  žižek trail thinker crisscross globe race new ...          fandor   \n",
       "35723  مسرحية استعراضية غنائية مأخوذة عن قصه هالة وال...          amazon   \n",
       "\n",
       "       AgeRating_13  AgeRating_16  AgeRating_18  AgeRating_7  AgeRating_all  \\\n",
       "0                 0             0             1            0              0   \n",
       "1                 0             0             1            0              0   \n",
       "2                 0             0             1            0              0   \n",
       "3                 0             0             1            0              0   \n",
       "4                 0             0             1            0              0   \n",
       "...             ...           ...           ...          ...            ...   \n",
       "35719             0             0             0            1              0   \n",
       "35720             0             0             1            0              0   \n",
       "35721             0             0             1            0              0   \n",
       "35722             0             0             1            0              0   \n",
       "35723             0             0             1            0              0   \n",
       "\n",
       "       Type_movies  Type_tv  IMDB  ReelGood  Released Year  Exclusive Service  \n",
       "0                1        0   1.6      36.0           2010                  0  \n",
       "1                1        0   1.6      36.0           2010                  0  \n",
       "2                1        0   1.6      36.0           2010                  0  \n",
       "3                1        0   1.6      36.0           2010                  0  \n",
       "4                1        0   1.6      36.0           2010                  0  \n",
       "...            ...      ...   ...       ...            ...                ...  \n",
       "35719            1        0   7.2      79.0           2006                  0  \n",
       "35720            0        1   7.2      66.0           2014                  1  \n",
       "35721            1        0   6.3      61.0           2017                  0  \n",
       "35722            1        0   7.3      58.0           2005                  1  \n",
       "35723            1        0   6.1      34.0           2009                  0  \n",
       "\n",
       "[35724 rows x 13 columns]"
      ]
     },
     "execution_count": 19,
     "metadata": {},
     "output_type": "execute_result"
    }
   ],
   "source": [
    "data2 = data.reset_index()\n",
    "data2.head()"
   ]
  },
  {
   "cell_type": "code",
   "execution_count": 20,
   "metadata": {},
   "outputs": [],
   "source": [
    "data = data2"
   ]
  },
  {
   "cell_type": "markdown",
   "metadata": {},
   "source": [
    "## Exclusive Content"
   ]
  },
  {
   "cell_type": "code",
   "execution_count": 21,
   "metadata": {},
   "outputs": [
    {
     "data": {
      "text/plain": [
       "(2213, 14)"
      ]
     },
     "execution_count": 21,
     "metadata": {},
     "output_type": "execute_result"
    }
   ],
   "source": [
    "###Two types of Models to be built - one a Multiclass model for exclusive content & a Multilabel model for non-exclusive content\n",
    "\n",
    "###For Exlusive content\n",
    "data=data[data['Exclusive Service']==1]\n",
    "\n",
    "#Checking if each exclusive stremer has at least 100 titles to ensure there is suffecient data for the model \n",
    "#We are picking streamers only with 100 titles or more\n",
    "\n",
    "groups_exclusive=data.groupby('Streaming Group')['CleanedDocs_ML'].count()\n",
    "groups_exclusive=pd.DataFrame(groups_exclusive)\n",
    "groups_exclusive_totake=groups_exclusive[groups_exclusive['CleanedDocs_ML']>100].index\n",
    "data=data[data['Streaming Group'].isin(groups_exclusive_totake)]\n",
    "labels = data['Streaming Group'].unique ()\n",
    "i = 0\n",
    "idx2class = {}\n",
    "class2idx = {}\n",
    "for tp in labels:\n",
    "    idx2class[i] = tp\n",
    "    class2idx[tp]= i\n",
    "    i+= 1\n",
    "idx2class #For decoding\n",
    "class2idx #for encoding\n",
    "\n",
    "data['DV']=data['Streaming Group'].map(class2idx)\n",
    "data.shape\n",
    "# # # get all genre tags in a list\n",
    "# # # all_dv = sum(data['DV'],[])\n",
    "# # # len(set(all_dv))\n"
   ]
  },
  {
   "cell_type": "code",
   "execution_count": 22,
   "metadata": {
    "colab": {
     "base_uri": "https://localhost:8080/"
    },
    "id": "-cCI26P_yLRj",
    "outputId": "9181a3e0-c583-401d-f227-10cc9fbcee65"
   },
   "outputs": [
    {
     "name": "stderr",
     "output_type": "stream",
     "text": [
      "[nltk_data] Downloading package punkt to /Users/levitas/nltk_data...\n",
      "[nltk_data]   Package punkt is already up-to-date!\n",
      "[nltk_data] Downloading package stopwords to\n",
      "[nltk_data]     /Users/levitas/nltk_data...\n",
      "[nltk_data]   Package stopwords is already up-to-date!\n"
     ]
    }
   ],
   "source": [
    "#import packages\n",
    "import pandas as pd\n",
    "import nltk as nltk\n",
    "from nltk.corpus import stopwords\n",
    "from nltk.util import ngrams\n",
    "from collections import Counter\n",
    "from nltk import word_tokenize \n",
    "import string\n",
    "import re\n",
    "import multiprocessing\n",
    "import gensim\n",
    "from gensim.models.keyedvectors import KeyedVectors\n",
    "import pickle\n",
    "nltk.download('punkt')\n",
    "nltk.download('stopwords')\n",
    "from sklearn.feature_extraction.text import TfidfVectorizer, CountVectorizer\n"
   ]
  },
  {
   "cell_type": "code",
   "execution_count": 23,
   "metadata": {
    "colab": {
     "base_uri": "https://localhost:8080/"
    },
    "id": "KIG3hwqh4rdM",
    "outputId": "2d694e8e-afc3-4aa4-998e-fbf80bbafc0c"
   },
   "outputs": [
    {
     "name": "stdout",
     "output_type": "stream",
     "text": [
      "Vocab Size from Data is: 5522\n"
     ]
    }
   ],
   "source": [
    "# ### Preparing Vocab Dictionary - for Count & TFIDF only\n",
    "stopwords1 = stopwords.words('english')\n",
    "\n",
    "#stopwords1.extend(stop['Stopword'])\n",
    "from nltk.util import ngrams\n",
    "from collections import Counter\n",
    "from nltk import word_tokenize \n",
    "da=(' '.join(filter(None,data[\"CleanedDocs_ML\"]))).lower()\n",
    "tokens = word_tokenize(da)\n",
    "tokens = [w for w in tokens if w not in stopwords1]\n",
    "filter_df =pd.DataFrame()\n",
    "uni_grams = list(ngrams(tokens, 1))\n",
    "counter = Counter(uni_grams)\n",
    "filter_df['fnames']=[' '.join(i) for i in counter.keys()]\n",
    "filter_df[0]=counter.values()\n",
    "\n",
    "###Change the number in the line below to limit vocab based on freq (To be tried to see if it improves model)\n",
    "fnames=pd.DataFrame(filter_df[filter_df[0]>1]['fnames'])\n",
    "print(\"Vocab Size from Data is: \" + str(fnames['fnames'].size))\n",
    "fnames.to_csv(r\"complete_data_dictionary\")\n",
    "fnames=fnames.reset_index(drop=True)\n",
    "vocab_d=dict(zip(fnames[\"fnames\"], fnames.index))\n",
    "pickle.dump(vocab_d,open('full_data_vocab','wb'))\n",
    "#\n",
    "del fnames, da,filter_df, counter, tokens, uni_grams,\n",
    "del stopwords1"
   ]
  },
  {
   "cell_type": "markdown",
   "metadata": {
    "id": "iiwA8zpf2TgR"
   },
   "source": [
    "# Feature Engineering"
   ]
  },
  {
   "cell_type": "code",
   "execution_count": 24,
   "metadata": {},
   "outputs": [],
   "source": [
    "#Source: https://github.com/RaRe-Technologies/gensim/wiki/Migrating-from-Gensim-3.x-to-4\n",
    "#Source: https://towardsdatascience.com/using-word2vec-to-analyze-news-headlines-and-predict-article-success-cdeda5f14751\n",
    "\n",
    "# Function that will help us drop documents that have no word vectors in word2vec\n",
    "def has_vector_representation(word2vec_model, doc):\n",
    "    \"\"\"check if at least one word of the document is in the\n",
    "    word2vec dictionary\"\"\"\n",
    "    return not all(word not in word2vec_model.key_to_index for word in doc)\n",
    "\n",
    "# Filter out documents\n",
    "def filter_docs(corpus, texts, condition_on_doc):\n",
    "    \"\"\"\n",
    "    Filter corpus and texts given the function condition_on_doc which takes a doc. The document doc is kept if condition_on_doc(doc) is true.\n",
    "    \"\"\"\n",
    "    number_of_docs = len(corpus)\n",
    "\n",
    "    if texts is not None:\n",
    "        texts = [text for (text, doc) in zip(texts, corpus)\n",
    "                 if condition_on_doc(doc)]\n",
    "\n",
    "    corpus = [doc for doc in corpus if condition_on_doc(doc)]\n",
    "\n",
    "    print(\"{} docs removed\".format(number_of_docs - len(corpus)))\n",
    "\n",
    "    return (corpus, texts)\n",
    "\n",
    "def document_vector(word2vec_model, doc):\n",
    "    # remove out-of-vocabulary words\n",
    "    doc = [word for word in doc if word in model.key_to_index]\n",
    "    return np.mean(model[doc], axis=0)"
   ]
  },
  {
   "cell_type": "markdown",
   "metadata": {
    "id": "0M7wE6YmxlMe"
   },
   "source": [
    "### Part 1: TFIDF Vectorizer"
   ]
  },
  {
   "cell_type": "code",
   "execution_count": 25,
   "metadata": {
    "colab": {
     "base_uri": "https://localhost:8080/"
    },
    "id": "1hiPeKF_x-Or",
    "outputId": "79bfa8bb-c1fd-4a58-e834-86c8379c671b"
   },
   "outputs": [
    {
     "name": "stderr",
     "output_type": "stream",
     "text": [
      "/Users/levitas/opt/anaconda3/lib/python3.8/site-packages/sklearn/utils/deprecation.py:87: FutureWarning: Function get_feature_names is deprecated; get_feature_names is deprecated in 1.0 and will be removed in 1.2. Please use get_feature_names_out instead.\n",
      "  warnings.warn(msg, category=FutureWarning)\n"
     ]
    },
    {
     "data": {
      "text/plain": [
       "2213"
      ]
     },
     "execution_count": 25,
     "metadata": {},
     "output_type": "execute_result"
    }
   ],
   "source": [
    "data[\"CleanedDocs_ML\"]=data[\"CleanedDocs_ML\"].astype(str)\n",
    "##to handle spaces in the end of text in case\n",
    "data[\"CleanedDocs_ML\"]=data[\"CleanedDocs_ML\"].str.lstrip() \n",
    "# data_with_id.loc[data_with_id.Text.str.lower().isin(stopwords1), 'Text'] = 'is stopword'\n",
    "\n",
    "\n",
    "vocabulary_words = pickle.load(open(r'full_data_vocab','rb'))\n",
    "\n",
    "\n",
    "tfidf_vect = TfidfVectorizer(analyzer='word', token_pattern=r'\\w{1,}', vocabulary= vocabulary_words)\n",
    "tfidf_vect.fit(data[\"CleanedDocs_ML\"])\n",
    "feature_names_dat = tfidf_vect.get_feature_names()\n",
    "df1 =  tfidf_vect.transform(data[\"CleanedDocs_ML\"])\n",
    "TfidfData = pd.DataFrame(df1.toarray(), columns=feature_names_dat)\n",
    "#TfidfData.to_csv(r\"tfidf_vectorizer_on_full_data_vocab.csv\",index=False, encoding=\"utf-8\")\n",
    "len(TfidfData)\n",
    "\n",
    "#ADD any other coulmns for training as you see fit\n",
    "#TfidfData['AgeRating']=data['AgeRating']"
   ]
  },
  {
   "cell_type": "markdown",
   "metadata": {
    "id": "8Dss-Sz_xlUr"
   },
   "source": [
    "### Part 2: Google Word2Vec"
   ]
  },
  {
   "cell_type": "code",
   "execution_count": 27,
   "metadata": {
    "id": "4igEkeBRxBl5"
   },
   "outputs": [
    {
     "name": "stdout",
     "output_type": "stream",
     "text": [
      "0 docs removed\n",
      "(2213, 301)\n",
      "Records without Vecotrs Detected: (0, 301)\n",
      "There are 2213 Unique records in Final DataFrame\n",
      "Please QC the number of rows to be common before use. The shapes are defined below:\n",
      "Original Data Shape: (2213, 14) Word 2 Vec Vectorizer Shape is: (2213, 300)\n"
     ]
    },
    {
     "data": {
      "text/plain": [
       "2213"
      ]
     },
     "execution_count": 27,
     "metadata": {},
     "output_type": "execute_result"
    }
   ],
   "source": [
    "#W2V using Google Corpus\n",
    "da=(' '.join(filter(None, data[\"CleanedDocs_ML\"]))).lower()\n",
    "tokens = word_tokenize(da)\n",
    "model = gensim.models.KeyedVectors.load_word2vec_format(r'./GoogleNews-vectors-negative300.bin.gz', binary=True)\n",
    "\n",
    "\n",
    "df1 = pd.DataFrame(data[[\"CleanedDocs_ML\"]])\n",
    "df1['totake']=pd.DataFrame(df1[\"CleanedDocs_ML\"].apply(lambda x:has_vector_representation(model,x)))\n",
    "df1['joincol']=df1.index\n",
    "data_t = df1[df1['totake']]\n",
    "data_l = df1[df1['totake']==False]\n",
    "#data_l = data_l['joincol']\n",
    "\n",
    "data_l=data_l.reset_index(drop=True)\n",
    "data_t=data_t.reset_index(drop=True)\n",
    "\n",
    "text_list = [text for text in data_t['CleanedDocs_ML']]\n",
    "len(text_list)\n",
    "data_t['filtered_text'], text_list = filter_docs(data_t['CleanedDocs_ML'], text_list, lambda doc: has_vector_representation(model, doc))\n",
    "\n",
    "\n",
    "#Final out is in data filtered text\n",
    "vector = []\n",
    "for doc in data_t['filtered_text']: # append the vector for each document\n",
    "    vector.append(document_vector(model, doc))\n",
    "    \n",
    "df = np.array(vector)\n",
    "W2V300Data=pd.DataFrame(data=df[0:,0:], index=[i for i in range(df.shape[0])], columns=['f'+str(i) for i in range(df.shape[1])])\n",
    "\n",
    "\n",
    "W2V300Data['joincol']= data_t['joincol']\n",
    "\n",
    "l= ['f'+str(i) for i in range(df.shape[1])]\n",
    "for col in l:\n",
    "    data_l[col] = 0\n",
    "data_l=data_l.drop(columns=['CleanedDocs_ML', 'totake'])\n",
    "\n",
    "print(W2V300Data.shape)\n",
    "print(\"Records without Vecotrs Detected: \" + str(data_l.shape))\n",
    "W2V300Data=pd.concat([W2V300Data,data_l], ignore_index=True)\n",
    "print(\"There are \"+str(W2V300Data['joincol'].nunique())+\" Unique records in Final DataFrame\")\n",
    "W2V300Data = W2V300Data.set_index('joincol')\n",
    "W2V300Data = W2V300Data.sort_index(axis = 0) \n",
    "\n",
    "print(\"Please QC the number of rows to be common before use. The shapes are defined below:\")\n",
    "print(\"Original Data Shape: \"+ str(data.shape)+\" Word 2 Vec Vectorizer Shape is: \"+str(W2V300Data.shape))\n",
    "#W2V300Data.to_csv(r\"FeatureSets_New/W2V300Data.csv\",index=False, encoding=\"utf-8\")\n",
    "\n",
    "len(W2V300Data)\n",
    "\n",
    "#ADD any other coulmns for training as you see fit\n",
    "#W2V300Data['AgeRating']=data['AgeRating']"
   ]
  },
  {
   "cell_type": "code",
   "execution_count": 88,
   "metadata": {},
   "outputs": [],
   "source": [
    "#potential variables to run:\n",
    "\n",
    "#W2V300Data['IMDB']=data['IMDB']\n",
    "#W2V300Data['Type_movies']=data['Type_movies']\n",
    "#W2V300Data['Type_tv']=data['Type_tv']\n",
    "#W2V300Data['ReelGood']=data['ReelGood']\n",
    "#W2V300Data['Released Year']=data['Released Year']\n",
    "#W2V300Data['AgeRating_13']=data['AgeRating_13']\n",
    "#W2V300Data['AgeRating_16']=data['AgeRating_16']\n",
    "#W2V300Data['AgeRating_18']=data['AgeRating_18']\n",
    "#W2V300Data['AgeRating_7']=data['AgeRating_7']\n",
    "#W2V300Data['AgeRating_all']=data['AgeRating_all']\n"
   ]
  },
  {
   "cell_type": "markdown",
   "metadata": {
    "id": "VNuRNxVExapD"
   },
   "source": [
    "# ML Model Building"
   ]
  },
  {
   "cell_type": "markdown",
   "metadata": {},
   "source": [
    "### AutoML from h2o"
   ]
  },
  {
   "cell_type": "code",
   "execution_count": 90,
   "metadata": {},
   "outputs": [
    {
     "name": "stderr",
     "output_type": "stream",
     "text": [
      "[nltk_data] Downloading package punkt to /Users/levitas/nltk_data...\n",
      "[nltk_data]   Package punkt is already up-to-date!\n",
      "[nltk_data] Downloading package stopwords to\n",
      "[nltk_data]     /Users/levitas/nltk_data...\n",
      "[nltk_data]   Package stopwords is already up-to-date!\n"
     ]
    },
    {
     "name": "stdout",
     "output_type": "stream",
     "text": [
      "Checking whether there is an H2O instance running at http://localhost:54321 . connected.\n"
     ]
    },
    {
     "data": {
      "text/html": [
       "<div style=\"overflow:auto\"><table style=\"width:50%\"><tr><td>H2O_cluster_uptime:</td>\n",
       "<td>1 hour 45 mins</td></tr>\n",
       "<tr><td>H2O_cluster_timezone:</td>\n",
       "<td>America/Los_Angeles</td></tr>\n",
       "<tr><td>H2O_data_parsing_timezone:</td>\n",
       "<td>UTC</td></tr>\n",
       "<tr><td>H2O_cluster_version:</td>\n",
       "<td>3.36.1.1</td></tr>\n",
       "<tr><td>H2O_cluster_version_age:</td>\n",
       "<td>25 days </td></tr>\n",
       "<tr><td>H2O_cluster_name:</td>\n",
       "<td>H2O_from_python_levitas_s0jbo4</td></tr>\n",
       "<tr><td>H2O_cluster_total_nodes:</td>\n",
       "<td>1</td></tr>\n",
       "<tr><td>H2O_cluster_free_memory:</td>\n",
       "<td>3.867 Gb</td></tr>\n",
       "<tr><td>H2O_cluster_total_cores:</td>\n",
       "<td>8</td></tr>\n",
       "<tr><td>H2O_cluster_allowed_cores:</td>\n",
       "<td>8</td></tr>\n",
       "<tr><td>H2O_cluster_status:</td>\n",
       "<td>locked, healthy</td></tr>\n",
       "<tr><td>H2O_connection_url:</td>\n",
       "<td>http://localhost:54321</td></tr>\n",
       "<tr><td>H2O_connection_proxy:</td>\n",
       "<td>{\"http\": null, \"https\": null}</td></tr>\n",
       "<tr><td>H2O_internal_security:</td>\n",
       "<td>False</td></tr>\n",
       "<tr><td>Python_version:</td>\n",
       "<td>3.8.8 final</td></tr></table></div>"
      ],
      "text/plain": [
       "--------------------------  ------------------------------\n",
       "H2O_cluster_uptime:         1 hour 45 mins\n",
       "H2O_cluster_timezone:       America/Los_Angeles\n",
       "H2O_data_parsing_timezone:  UTC\n",
       "H2O_cluster_version:        3.36.1.1\n",
       "H2O_cluster_version_age:    25 days\n",
       "H2O_cluster_name:           H2O_from_python_levitas_s0jbo4\n",
       "H2O_cluster_total_nodes:    1\n",
       "H2O_cluster_free_memory:    3.867 Gb\n",
       "H2O_cluster_total_cores:    8\n",
       "H2O_cluster_allowed_cores:  8\n",
       "H2O_cluster_status:         locked, healthy\n",
       "H2O_connection_url:         http://localhost:54321\n",
       "H2O_connection_proxy:       {\"http\": null, \"https\": null}\n",
       "H2O_internal_security:      False\n",
       "Python_version:             3.8.8 final\n",
       "--------------------------  ------------------------------"
      ]
     },
     "metadata": {},
     "output_type": "display_data"
    },
    {
     "name": "stdout",
     "output_type": "stream",
     "text": [
      "Parse progress: |████████████████████████████████████████████████████████████████| (done) 100%\n",
      "Parse progress: |████████████████████████████████████████████████████████████████| (done) 100%\n"
     ]
    }
   ],
   "source": [
    "from sklearn import metrics   #Additional scklearn functions\n",
    "from sklearn.model_selection import train_test_split\n",
    "from sklearn.metrics import accuracy_score\n",
    "########H2O\n",
    "import pandas as pd\n",
    "import numpy as np\n",
    "import nltk as nltk\n",
    "from nltk.corpus import stopwords\n",
    "from nltk.util import ngrams\n",
    "from collections import Counter\n",
    "from nltk import word_tokenize \n",
    "import string\n",
    "import multiprocessing\n",
    "import gensim\n",
    "from gensim.models.keyedvectors import KeyedVectors\n",
    "import pickle\n",
    "nltk.download('punkt')\n",
    "nltk.download('stopwords')\n",
    "from sklearn.feature_extraction.text import TfidfVectorizer, CountVectorizer\n",
    "import re\n",
    "import h2o\n",
    "from h2o.automl import H2OAutoML\n",
    "from sklearn.preprocessing import OneHotEncoder\n",
    "\n",
    "#Change the following line depending on what you are running\n",
    "#Eg - Replace TfidfData with W2V300Data  to try how different featuresets perform - \n",
    "#or if you change to TFIDF with 1 other columns eg W2V_withAge\n",
    "\n",
    "X_train, X_test, y_train, y_test = train_test_split(TfidfData, data['DV'], test_size=0.25, random_state=42, stratify = data['DV'] )\n",
    "\n",
    "tr=pd.DataFrame(X_train)\n",
    "tr=tr.reset_index(drop=True)\n",
    "#tr=tr.drop(columns=['joincol'],axis=1)\n",
    "predictors=list(tr.columns)\n",
    "y_train=pd.DataFrame(y_train)\n",
    "y_train=y_train.reset_index(drop=True)\n",
    "tr['DV']=y_train\n",
    "\n",
    "ts=pd.DataFrame(X_test)\n",
    "ts=ts.reset_index(drop=True)\n",
    "#ts=ts.drop(columns=['joincol'],axis=1)\n",
    "y_test=pd.DataFrame(y_test)\n",
    "y_test=y_test.reset_index(drop=True)\n",
    "ts['DV']=y_test\n",
    "\n",
    "\n",
    "h2o.init()\n",
    "tr_h2o = h2o.H2OFrame(tr)\n",
    "tr_h2o['DV'] = tr_h2o['DV'].asfactor()\n",
    "\n",
    "ts_h2o = h2o.H2OFrame(ts)\n",
    "ts_h2o['DV'] = ts_h2o['DV'].asfactor()\n"
   ]
  },
  {
   "cell_type": "code",
   "execution_count": 91,
   "metadata": {},
   "outputs": [
    {
     "name": "stdout",
     "output_type": "stream",
     "text": [
      "AutoML progress: |\n",
      "13:30:37.494: _train param, Dropping bad and constant columns: [pope, fare, hamlet, flicker, clinton, tripathi, halo, urge, rider, aviv, photographers, graduation, alaska, vik, tel, daring, hermit, rap, solid, antonio, gladiator, neutral, carnival, apparent, zelda, kotona, amusing, talisman, weir, hang, 12th, daiki, heartedly, golf, kindaor, yoman, barricade, ludiro, tattooed, kassler, gibson, embarrassment, zhen, stasis, freshman, halt, fårö, v, exciting, regain, arch, standard, waco, mobeen, pryor, thx, flamboyant, chill, entangle, demise, pott, counterpoint, boyhood, whirlwind, pad, nazira, copycat, offender, kuni, harumi, stefan, che, ito, invitation, rajaram, andrew, sand, coleman, parimal, haru, orlof, patiently, darren, capitalism, surveillance, clarinet, snoop, yuliy, stallone, haiti, marcos, victory, rick, linda, jaeger, vikramaditya, suraj, stoneman, chariot, razia, feminism, hopeless, milda, creepy, albeit, slacker, riff, morag, injustice, atsushi, compost, shah, catholicism, ultra, disappointment, malawi, archivist, clarence, reformation, rio, jerry, corporation, programmer, carelessness, edwardian, weng, happily, hookup, munchkin, restriction, demonic, roller, guo, optimism, arato, egyptian, magnificent, wendy, ander, instant, ton, upscale, peer, mausi, andi, tomi, aji, nagaraj, izu, tomb, curriculum, toño, roland, lingerie, equally, alba, smuggling, viceroy, reverberate, madman, annetta, monologue, undertake, impersonate, ramona, nemesis, gertrud, puberty, macaulay, astonishingly, lukas, ali, matthew, baghdad, baltic, macron, pardon, munich, frisell, andy, münchhausen, cafe, badly, entertaining, bashudev, ensemble, romania, joyous, running, laura, eva, doreen, beetle, predict, bust, tord, roy, aubin, contaminate, pastor, giselle, akiva, neon, bachelor, constance, accord, specific, iori, cyber, álex, collapse, clumsy, subu, octopus, peppe, mustafa, drowning, battalion, shin, mccarn, narumi, extraterrestrial, jam, uplifting, philippines, drift, forgiveness, pregnancy, breathtaking, surrealistic, vulnerability, ivan, gustav, coexist, turkey, sanjana, enroll, reminiscent, klahr, winifred, flash, toronto, masculinity, bardo, incompatible, fondly, routine, arc, handel, drunken, patience, captive, disabled, canal, argyll, muriel, quiz, triumph, thirst, bliss, liberation, garrett, platoon, religion, unexplained, charm, deadpan, bywater, romola, deject, recapture, lynch, existential, spacecraft, incomplete, kevin, deception, separation, recollection, hugh, padín, tenuous, juana, icecream, interstellar, selling, stalin, bolton, coastal, basement, machiko, michelle, android, banish, beijing, backyard, rite, bangor, shoe, tina, molestation, mona, accidently, dulac, sculpture, uruguayan, imamura, realization, pornographer, schreiber, silicon, horrifying, stash, discard, raphaela, ryo, kike, jasmine, jodie, hew, hardware, dervish, durga, cameron, aya, masaru, norvind, uday, miraculous, unrequited, comfortable, carl, elliot, completely, dolly, athletic, arjun, paula, casaubon, angela, sagan, joshi, settle, solar, exercise, teaching, subeer, accidental, arabia, bleak, confuse, glorious, cooking, stardom, jackie, counterculture, quaint, janeiro, mischief, tessa, komal, beautifully, janie, eternal, shirt, permanent, chan, munchen, spontaneously, pablo, alliance, tito, raghav, merry, renegade, pianist, lahey, undead, ghunghroo, newfound, unassuming, ridden, negotiate, licence, violin, temporarily, thiago, prague, monica, eclipse, breakup, suicidal, footstep, otsuta, option, tent, forbin, sponsor, pathology, rodchenkov, crucial, howard, mahler, inquisition, bike, bombay, anya, clown, swinge, concentration, dope, puppet, rânia, shiny, interfere, fitting, abbe, stunning, abba, der, ramprasad, rand, cristina, neighbourhood, heden, preacher, bay, pseudo, fictitious, neglect, surf, apparition, cosmic, aden, going, excited, natalie, sylvester, extend, canyon, rodion, dose, fogel, chemical, huntford, loyalist, luis, dhunu, masako, tenor, grasp, adoption, pave, fool, eisenstein, subsequent, panel, somme, outstanding, barney, alejandro, pawnshop, dmitry, dubai, blast, rewi, ella, dissatisfaction, plunge, gifted, voeten, visa, lye, biggs, somewhat, thrive, setyo, glen, fuzz, precede, dj, deck, okaasan, thunder, inga, hustler, florentine, margaret, landmark, ed, baron, sgt, dolphin, abel, emilia, louisiana, sermon, andula, cinematic, foe, fog, importance, uma, capable, endless, mistaken, twilight, luna, mack, repress, pound, tennessee, ignore, santo, prosperity, conversion, notice, clara, patrolman, historic, jakob, nikolai, monitor, permission, sergei, print, hayward, hickey, interpret, iron, rajiv, tunnel, withdraw, hi, washingtonia, advanced, wagner, bin, adventurous, shanta, divine, ricky, norwegian, luiza, ski, kitten, agony, och, bailey, mallinckrodt, displacement, lowlife, pitch, hoot, sasha, literally, mario, sensitive, iv, seijun, baseball, ellie, prasad, tournament, mac, nikki, tamae, overtly, map, folktale, ritter, cigarette, baikonur, ku, krishna, bilike, culmination, singapore, knee, wooden, stuart, klan, devki, practically, networking, arkan, iraqi, convent, kyoya, opponent, sor, borstal, backward, residence, brian, abduction, dry, preserve, seriously, trash, daniel, dish, sagawa, orleans, bunch, ni, strife, outwit, cocaine, candy, earthenware, deren, fidelity, plumber, considerable, idealistic, playground, oh, suzuki, fulfil, revelry, brief, op, inimitable, selma, oz, whilst, madame, andrade, lobby, overthrow, edmond, stripper, taunt, falko, villa, newcomer, inexperienced, veronika, pilgrimage, iskander, interpol, doomsday, rebirth, obsessive, mushroom, czech, resettle, perpetually, vibrant, tonite, mclaren, maysle, savvy, sebastian, decorative, ginza, biffle, pillar, falken, expire, kara, rancher, littleton, maternal, massimo, motor, homosexuality, yoga, scam, jarvis, nogi, remember, bergman, thacker, evans, vikram, voyager, narita, civilian, audio, cohn, kew, dirty, calendar, rebellion, sensual, trixie, renewal, texture, perpetrator, garage, seyolo, bud, swann, extensive, bridie, bug, witcher, shanghai, closed, muthana, pauline, milana, verdean, amundsen, dingo, aide, motorcycle, zero, 3d, commando, angelus, galileo, awareness, barn, fallout, lick, falsely, dynamic, generate, arabella, orson, randa, nazis, eisenberg, autobiographical, sinatra, ranch, archbishop, disrupt, carpet, nicola, kaiman, recklessness, learning, 18th, satou, fraternal, kin, poem, examination, destitute, kit, 70, definition, hyakkaou, regime, kiryu, colossus, guitar, superior, eagerly, incredibly, earthling, deepen, subaru, bankrupt, summertime, coerce, seminar, elsie, pupil, fitzgerald, camila, midge, weather, proof, yu, dependent, exceptional, responder, misfortune, fabric, inhuman, akote, osaka, architect, protector, foundation, sheriff, biwako, uniform, confess, vronsky, rubble, barber, hockey, catchy, observation, revisit, sally, yuzo, transformation, monastery, apocalypse, behaviour, insecurity, siti, insult, celebratory, emmanuel, roman, hopeful, benedict, forensic, terje, seductive, realistic, flipper, desolate, harboy, scarred, nephew, viking, notebook, healer, resource, xiu, sebastien, spade, maya, jamie, manufacture, jonas, dass, transformative, grizzle, dash, sprawl, mud, ruth, frequent, chakuro, captivate, waziri, marilyn, buck, craig, laliga, challenger, psych, confidence, cbi, nigh, narco, yashpaul, round, currently, klux, anticipate, weave]\n",
      "\n",
      "█\n",
      "13:30:39.911: _train param, Dropping bad and constant columns: [pope, fare, hamlet, flicker, clinton, tripathi, halo, urge, rider, aviv, photographers, graduation, alaska, vik, tel, daring, hermit, rap, solid, antonio, gladiator, neutral, carnival, apparent, zelda, kotona, amusing, talisman, weir, hang, 12th, daiki, heartedly, golf, kindaor, yoman, barricade, ludiro, tattooed, kassler, gibson, embarrassment, zhen, stasis, freshman, halt, fårö, v, exciting, regain, arch, standard, waco, mobeen, pryor, thx, flamboyant, chill, entangle, demise, pott, counterpoint, boyhood, whirlwind, pad, nazira, copycat, offender, kuni, harumi, stefan, che, ito, invitation, rajaram, andrew, sand, coleman, parimal, haru, orlof, patiently, darren, capitalism, surveillance, clarinet, snoop, yuliy, stallone, haiti, marcos, victory, rick, linda, jaeger, vikramaditya, suraj, stoneman, chariot, razia, feminism, hopeless, milda, creepy, albeit, slacker, riff, morag, injustice, atsushi, compost, shah, catholicism, ultra, disappointment, malawi, archivist, clarence, reformation, rio, jerry, corporation, programmer, carelessness, edwardian, weng, happily, hookup, munchkin, restriction, demonic, roller, guo, optimism, arato, egyptian, magnificent, wendy, ander, instant, ton, upscale, peer, mausi, andi, tomi, aji, nagaraj, izu, tomb, curriculum, toño, roland, lingerie, equally, alba, smuggling, viceroy, reverberate, madman, annetta, monologue, undertake, impersonate, ramona, nemesis, gertrud, puberty, macaulay, astonishingly, lukas, ali, matthew, baghdad, baltic, macron, pardon, munich, frisell, andy, münchhausen, cafe, badly, entertaining, bashudev, ensemble, romania, joyous, running, laura, eva, doreen, beetle, predict, bust, tord, roy, aubin, contaminate, pastor, giselle, akiva, neon, bachelor, constance, accord, specific, iori, cyber, álex, collapse, clumsy, subu, octopus, peppe, mustafa, drowning, battalion, shin, mccarn, narumi, extraterrestrial, jam, uplifting, philippines, drift, forgiveness, pregnancy, breathtaking, surrealistic, vulnerability, ivan, gustav, coexist, turkey, sanjana, enroll, reminiscent, klahr, winifred, flash, toronto, masculinity, bardo, incompatible, fondly, routine, arc, handel, drunken, patience, captive, disabled, canal, argyll, muriel, quiz, triumph, thirst, bliss, liberation, garrett, platoon, religion, unexplained, charm, deadpan, bywater, romola, deject, recapture, lynch, existential, spacecraft, incomplete, kevin, deception, separation, recollection, hugh, padín, tenuous, juana, icecream, interstellar, selling, stalin, bolton, coastal, basement, machiko, michelle, android, banish, beijing, backyard, rite, bangor, shoe, tina, molestation, mona, accidently, dulac, sculpture, uruguayan, imamura, realization, pornographer, schreiber, silicon, horrifying, stash, discard, raphaela, ryo, kike, jasmine, jodie, hew, hardware, dervish, durga, cameron, aya, masaru, norvind, uday, miraculous, unrequited, comfortable, carl, elliot, completely, dolly, athletic, arjun, paula, casaubon, angela, sagan, joshi, settle, solar, exercise, teaching, subeer, accidental, arabia, bleak, confuse, glorious, cooking, stardom, jackie, counterculture, quaint, janeiro, mischief, tessa, komal, beautifully, janie, eternal, shirt, permanent, chan, munchen, spontaneously, pablo, alliance, tito, raghav, merry, renegade, pianist, lahey, undead, ghunghroo, newfound, unassuming, ridden, negotiate, licence, violin, temporarily, thiago, prague, monica, eclipse, breakup, suicidal, footstep, otsuta, option, tent, forbin, sponsor, pathology, rodchenkov, crucial, howard, mahler, inquisition, bike, bombay, anya, clown, swinge, concentration, dope, puppet, rânia, shiny, interfere, fitting, abbe, stunning, abba, der, ramprasad, rand, cristina, neighbourhood, heden, preacher, bay, pseudo, fictitious, neglect, surf, apparition, cosmic, aden, going, excited, natalie, sylvester, extend, canyon, rodion, dose, fogel, chemical, huntford, loyalist, luis, dhunu, masako, tenor, grasp, adoption, pave, fool, eisenstein, subsequent, panel, somme, outstanding, barney, alejandro, pawnshop, dmitry, dubai, blast, rewi, ella, dissatisfaction, plunge, gifted, voeten, visa, lye, biggs, somewhat, thrive, setyo, glen, fuzz, precede, dj, deck, okaasan, thunder, inga, hustler, florentine, margaret, landmark, ed, baron, sgt, dolphin, abel, emilia, louisiana, sermon, andula, cinematic, foe, fog, importance, uma, capable, endless, mistaken, twilight, luna, mack, repress, pound, tennessee, ignore, santo, prosperity, conversion, notice, clara, patrolman, historic, jakob, nikolai, monitor, permission, sergei, print, hayward, hickey, interpret, iron, rajiv, tunnel, withdraw, hi, washingtonia, advanced, wagner, bin, adventurous, shanta, divine, ricky, norwegian, luiza, ski, kitten, agony, och, bailey, mallinckrodt, displacement, lowlife, pitch, hoot, sasha, literally, mario, sensitive, iv, seijun, baseball, ellie, prasad, tournament, mac, nikki, tamae, overtly, map, folktale, ritter, cigarette, baikonur, ku, krishna, bilike, culmination, singapore, knee, wooden, stuart, klan, devki, practically, networking, arkan, iraqi, convent, kyoya, opponent, sor, borstal, backward, residence, brian, abduction, dry, preserve, seriously, trash, daniel, dish, sagawa, orleans, bunch, ni, strife, outwit, cocaine, candy, earthenware, deren, fidelity, plumber, considerable, idealistic, playground, oh, suzuki, fulfil, revelry, brief, op, inimitable, selma, oz, whilst, madame, andrade, lobby, overthrow, edmond, stripper, taunt, falko, villa, newcomer, inexperienced, veronika, pilgrimage, iskander, interpol, doomsday, rebirth, obsessive, mushroom, czech, resettle, perpetually, vibrant, tonite, mclaren, maysle, savvy, sebastian, decorative, ginza, biffle, pillar, falken, expire, kara, rancher, littleton, maternal, massimo, motor, homosexuality, yoga, scam, jarvis, nogi, remember, bergman, thacker, evans, vikram, voyager, narita, civilian, audio, cohn, kew, dirty, calendar, rebellion, sensual, trixie, renewal, texture, perpetrator, garage, seyolo, bud, swann, extensive, bridie, bug, witcher, shanghai, closed, muthana, pauline, milana, verdean, amundsen, dingo, aide, motorcycle, zero, 3d, commando, angelus, galileo, awareness, barn, fallout, lick, falsely, dynamic, generate, arabella, orson, randa, nazis, eisenberg, autobiographical, sinatra, ranch, archbishop, disrupt, carpet, nicola, kaiman, recklessness, learning, 18th, satou, fraternal, kin, poem, examination, destitute, kit, 70, definition, hyakkaou, regime, kiryu, colossus, guitar, superior, eagerly, incredibly, earthling, deepen, subaru, bankrupt, summertime, coerce, seminar, elsie, pupil, fitzgerald, camila, midge, weather, proof, yu, dependent, exceptional, responder, misfortune, fabric, inhuman, akote, osaka, architect, protector, foundation, sheriff, biwako, uniform, confess, vronsky, rubble, barber, hockey, catchy, observation, revisit, sally, yuzo, transformation, monastery, apocalypse, behaviour, insecurity, siti, insult, celebratory, emmanuel, roman, hopeful, benedict, forensic, terje, seductive, realistic, flipper, desolate, harboy, scarred, nephew, viking, notebook, healer, resource, xiu, sebastien, spade, maya, jamie, manufacture, jonas, dass, transformative, grizzle, dash, sprawl, mud, ruth, frequent, chakuro, captivate, waziri, marilyn, buck, craig, laliga, challenger, psych, confidence, cbi, nigh, narco, yashpaul, round, currently, klux, anticipate, weave]\n",
      "\n"
     ]
    },
    {
     "name": "stdout",
     "output_type": "stream",
     "text": [
      "██████████\n",
      "13:31:23.773: _train param, Dropping unused columns: [pope, fare, hamlet, flicker, clinton, tripathi, halo, urge, rider, aviv, photographers, graduation, alaska, vik, tel, daring, hermit, rap, solid, antonio, gladiator, neutral, carnival, apparent, zelda, kotona, amusing, talisman, weir, hang, 12th, daiki, heartedly, golf, kindaor, yoman, barricade, ludiro, tattooed, kassler, gibson, embarrassment, zhen, stasis, freshman, halt, fårö, v, exciting, regain, arch, standard, waco, mobeen, pryor, thx, flamboyant, chill, entangle, demise, pott, counterpoint, boyhood, whirlwind, pad, nazira, copycat, offender, kuni, harumi, stefan, che, ito, invitation, rajaram, andrew, sand, coleman, parimal, haru, orlof, patiently, darren, capitalism, surveillance, clarinet, snoop, yuliy, stallone, haiti, marcos, victory, rick, linda, jaeger, vikramaditya, suraj, stoneman, chariot, razia, feminism, hopeless, milda, creepy, albeit, slacker, riff, morag, injustice, atsushi, compost, shah, catholicism, ultra, disappointment, malawi, archivist, clarence, reformation, rio, jerry, corporation, programmer, carelessness, edwardian, weng, happily, hookup, munchkin, restriction, demonic, roller, guo, optimism, arato, egyptian, magnificent, wendy, ander, instant, ton, upscale, peer, mausi, andi, tomi, aji, nagaraj, izu, tomb, curriculum, toño, roland, lingerie, equally, alba, smuggling, viceroy, reverberate, madman, annetta, monologue, undertake, impersonate, ramona, nemesis, gertrud, puberty, macaulay, astonishingly, lukas, ali, matthew, baghdad, baltic, macron, pardon, munich, frisell, andy, münchhausen, cafe, badly, entertaining, bashudev, ensemble, romania, joyous, running, laura, eva, doreen, beetle, predict, bust, tord, roy, aubin, contaminate, pastor, giselle, akiva, neon, bachelor, constance, accord, specific, iori, cyber, álex, collapse, clumsy, subu, octopus, peppe, mustafa, drowning, battalion, shin, mccarn, narumi, extraterrestrial, jam, uplifting, philippines, drift, forgiveness, pregnancy, breathtaking, surrealistic, vulnerability, ivan, gustav, coexist, turkey, sanjana, enroll, reminiscent, klahr, winifred, flash, toronto, masculinity, bardo, incompatible, fondly, routine, arc, handel, drunken, patience, captive, disabled, canal, argyll, muriel, quiz, triumph, thirst, bliss, liberation, garrett, platoon, religion, unexplained, charm, deadpan, bywater, romola, deject, recapture, lynch, existential, spacecraft, incomplete, kevin, deception, separation, recollection, hugh, padín, tenuous, juana, icecream, interstellar, selling, stalin, bolton, coastal, basement, machiko, michelle, android, banish, beijing, backyard, rite, bangor, shoe, tina, molestation, mona, accidently, dulac, sculpture, uruguayan, imamura, realization, pornographer, schreiber, silicon, horrifying, stash, discard, raphaela, ryo, kike, jasmine, jodie, hew, hardware, dervish, durga, cameron, aya, masaru, norvind, uday, miraculous, unrequited, comfortable, carl, elliot, completely, dolly, athletic, arjun, paula, casaubon, angela, sagan, joshi, settle, solar, exercise, teaching, subeer, accidental, arabia, bleak, confuse, glorious, cooking, stardom, jackie, counterculture, quaint, janeiro, mischief, tessa, komal, beautifully, janie, eternal, shirt, permanent, chan, munchen, spontaneously, pablo, alliance, tito, raghav, merry, renegade, pianist, lahey, undead, ghunghroo, newfound, unassuming, ridden, negotiate, licence, violin, temporarily, thiago, prague, monica, eclipse, breakup, suicidal, footstep, otsuta, option, tent, forbin, sponsor, pathology, rodchenkov, crucial, howard, mahler, inquisition, bike, bombay, anya, clown, swinge, concentration, dope, puppet, rânia, shiny, interfere, fitting, abbe, stunning, abba, der, ramprasad, rand, cristina, neighbourhood, heden, preacher, bay, pseudo, fictitious, neglect, surf, apparition, cosmic, aden, going, excited, natalie, sylvester, extend, canyon, rodion, dose, fogel, chemical, huntford, loyalist, luis, dhunu, masako, tenor, grasp, adoption, pave, fool, eisenstein, subsequent, panel, somme, outstanding, barney, alejandro, pawnshop, dmitry, dubai, blast, rewi, ella, dissatisfaction, plunge, gifted, voeten, visa, lye, biggs, somewhat, thrive, setyo, glen, fuzz, precede, dj, deck, okaasan, thunder, inga, hustler, florentine, margaret, landmark, ed, baron, sgt, dolphin, abel, emilia, louisiana, sermon, andula, cinematic, foe, fog, importance, uma, capable, endless, mistaken, twilight, luna, mack, repress, pound, tennessee, ignore, santo, prosperity, conversion, notice, clara, patrolman, historic, jakob, nikolai, monitor, permission, sergei, print, hayward, hickey, interpret, iron, rajiv, tunnel, withdraw, hi, washingtonia, advanced, wagner, bin, adventurous, shanta, divine, ricky, norwegian, luiza, ski, kitten, agony, och, bailey, mallinckrodt, displacement, lowlife, pitch, hoot, sasha, literally, mario, sensitive, iv, seijun, baseball, ellie, prasad, tournament, mac, nikki, tamae, overtly, map, folktale, ritter, cigarette, baikonur, ku, krishna, bilike, culmination, singapore, knee, wooden, stuart, klan, devki, practically, networking, arkan, iraqi, convent, kyoya, opponent, sor, borstal, backward, residence, brian, abduction, dry, preserve, seriously, trash, daniel, dish, sagawa, orleans, bunch, ni, strife, outwit, cocaine, candy, earthenware, deren, fidelity, plumber, considerable, idealistic, playground, oh, suzuki, fulfil, revelry, brief, op, inimitable, selma, oz, whilst, madame, andrade, lobby, overthrow, edmond, stripper, taunt, falko, villa, newcomer, inexperienced, veronika, pilgrimage, iskander, interpol, doomsday, rebirth, obsessive, mushroom, czech, resettle, perpetually, vibrant, tonite, mclaren, maysle, savvy, sebastian, decorative, ginza, biffle, pillar, falken, expire, kara, rancher, littleton, maternal, massimo, motor, homosexuality, yoga, scam, jarvis, nogi, remember, bergman, thacker, evans, vikram, voyager, narita, civilian, audio, cohn, kew, dirty, calendar, rebellion, sensual, trixie, renewal, texture, perpetrator, garage, seyolo, bud, swann, extensive, bridie, bug, witcher, shanghai, closed, muthana, pauline, milana, verdean, amundsen, dingo, aide, motorcycle, zero, 3d, commando, angelus, galileo, awareness, barn, fallout, lick, falsely, dynamic, generate, arabella, orson, randa, nazis, eisenberg, autobiographical, sinatra, ranch, archbishop, disrupt, carpet, nicola, kaiman, recklessness, learning, 18th, satou, fraternal, kin, poem, examination, destitute, kit, 70, definition, hyakkaou, regime, kiryu, colossus, guitar, superior, eagerly, incredibly, earthling, deepen, subaru, bankrupt, summertime, coerce, seminar, elsie, pupil, fitzgerald, camila, midge, weather, proof, yu, dependent, exceptional, responder, misfortune, fabric, inhuman, akote, osaka, architect, protector, foundation, sheriff, biwako, uniform, confess, vronsky, rubble, barber, hockey, catchy, observation, revisit, sally, yuzo, transformation, monastery, apocalypse, behaviour, insecurity, siti, insult, celebratory, emmanuel, roman, hopeful, benedict, forensic, terje, seductive, realistic, flipper, desolate, harboy, scarred, nephew, viking, notebook, healer, resource, xiu, sebastien, spade, maya, jamie, manufacture, jonas, dass, transformative, grizzle, dash, sprawl, mud, ruth, frequent, chakuro, captivate, waziri, marilyn, buck, craig, laliga, challenger, psych, confidence, cbi, nigh, narco, yashpaul, round, currently, klux, anticipate, weave]\n",
      "\n",
      "████████████████████████████████████████████████████| (done) 100%\n"
     ]
    }
   ],
   "source": [
    "#Auto ML Run # Set max_runtime_secs to whatever makes sense. \n",
    "aml = H2OAutoML(max_models = 20,max_runtime_secs=1800, seed = 1, export_checkpoints_dir = './dummy/')\n",
    "aml.train(x = predictors, y ='DV',training_frame=tr_h2o)\n",
    "#Get the leaderboard\n",
    "lb = aml.leaderboard"
   ]
  },
  {
   "cell_type": "code",
   "execution_count": 92,
   "metadata": {},
   "outputs": [
    {
     "data": {
      "text/plain": [
       "'/Users/levitas/Desktop/StackedEnsemble_BestOfFamily_1_AutoML_10_20220509_133036'"
      ]
     },
     "execution_count": 92,
     "metadata": {},
     "output_type": "execute_result"
    }
   ],
   "source": [
    "model = aml.leader\n",
    "# download the model built above to your local machine - to reuse & Reproduce results on Future data\n",
    "my_local_model = h2o.download_model(model)\n",
    "my_local_model"
   ]
  },
  {
   "cell_type": "code",
   "execution_count": 93,
   "metadata": {
    "scrolled": false
   },
   "outputs": [
    {
     "name": "stdout",
     "output_type": "stream",
     "text": [
      "stackedensemble prediction progress: |███████████████████████████████████████████| (done) 100%\n"
     ]
    },
    {
     "name": "stderr",
     "output_type": "stream",
     "text": [
      "/Users/levitas/opt/anaconda3/lib/python3.8/site-packages/h2o/job.py:83: UserWarning: Test/Validation dataset column 'IMDB' has levels not trained on: [\"4.4\", \"4.5\", \"4.9\", \"7.7\", \"8.1\"]\n",
      "  warnings.warn(w)\n"
     ]
    },
    {
     "name": "stdout",
     "output_type": "stream",
     "text": [
      "\n",
      "Testing Results of the trained model: \n",
      "\n",
      "Accuracy :  0.5487364620938628\n",
      "\n",
      "Baseline Accuracy :  0.4223826714801444\n",
      "\n",
      "Confusion Matrix :\n",
      " [[191  10  30   0   3   0]\n",
      " [ 32   7  24   2   0   2]\n",
      " [ 34   2  43   3   1   0]\n",
      " [ 41   7  19   4   0   0]\n",
      " [ 43   6  14   1   5   0]\n",
      " [ 21   1   5   0   3   0]]\n",
      "\n",
      "Classification Report :\n",
      "               precision    recall  f1-score   support\n",
      "\n",
      "           0       0.53      0.82      0.64       234\n",
      "           1       0.21      0.10      0.14        67\n",
      "           2       0.32      0.52      0.39        83\n",
      "           3       0.40      0.06      0.10        71\n",
      "           4       0.42      0.07      0.12        69\n",
      "           5       0.00      0.00      0.00        30\n",
      "\n",
      "    accuracy                           0.45       554\n",
      "   macro avg       0.31      0.26      0.23       554\n",
      "weighted avg       0.40      0.45      0.37       554\n",
      "\n"
     ]
    },
    {
     "data": {
      "image/png": "[encoded data removed]",
      "text/plain": [
       "<Figure size 700x700 with 2 Axes>"
      ]
     },
     "metadata": {},
     "output_type": "display_data"
    }
   ],
   "source": [
    "#h2o.init()\n",
    "# upload the model that you just downloded above\n",
    "# to the H2O cluster\n",
    "#need to update this model with the output from the above cell for each model that is run\n",
    "uploaded_model = h2o.upload_model('/Users/levitas/Desktop/StackedEnsemble_BestOfFamily_1_AutoML_10_20220509_133036')\n",
    "model=uploaded_model\n",
    "# For Classification\n",
    "import scikitplot as skplt\n",
    "from sklearn.metrics import accuracy_score, classification_report\n",
    "from sklearn.metrics import cohen_kappa_score, confusion_matrix\n",
    "import matplotlib.pyplot as plt\n",
    "\n",
    "# Predict with the best model.\n",
    "predicted_y = model.predict(ts_h2o.drop('DV'))\n",
    "\n",
    "predicted_data = predicted_y.as_data_frame()\n",
    "valid_dataset = ts_h2o.as_data_frame()\n",
    "\n",
    "\n",
    "# Evaluate the skill of the Trained model\n",
    "acc                 = accuracy_score(valid_dataset['DV'], predicted_data['predict'])\n",
    "baseline_acc = accuracy_score(valid_dataset['DV'], [0 for i in range(len(predicted_data))])\n",
    "classReport         = classification_report(valid_dataset['DV'], predicted_data['predict'])\n",
    "confMatrix          = confusion_matrix(valid_dataset['DV'], predicted_data['predict']) \n",
    "        \n",
    "print(); print('Testing Results of the trained model: ')\n",
    "print(); print('Accuracy : ', 1-acc)\n",
    "print(); print('Baseline Accuracy : ', baseline_acc)\n",
    "print(); print('Confusion Matrix :\\n', confMatrix)\n",
    "print(); print('Classification Report :\\n',classReport)\n",
    "\n",
    "# Confusion matrix\n",
    "skplt.metrics.plot_confusion_matrix(valid_dataset['DV'], predicted_data['predict'], figsize=(7,7)); plt.show()"
   ]
  },
  {
   "cell_type": "code",
   "execution_count": 34,
   "metadata": {},
   "outputs": [
    {
     "data": {
      "text/plain": [
       "{0: 'netflix',\n",
       " 1: 'criterion_channel',\n",
       " 2: 'fandor',\n",
       " 3: 'hoopla/kanopy',\n",
       " 4: 'amazon',\n",
       " 5: 'epix'}"
      ]
     },
     "execution_count": 34,
     "metadata": {},
     "output_type": "execute_result"
    }
   ],
   "source": [
    "idx2class"
   ]
  },
  {
   "cell_type": "markdown",
   "metadata": {},
   "source": [
    "## Non-Exclusive Content Models"
   ]
  },
  {
   "cell_type": "code",
   "execution_count": 35,
   "metadata": {},
   "outputs": [
    {
     "name": "stderr",
     "output_type": "stream",
     "text": [
      "[nltk_data] Downloading package punkt to /Users/levitas/nltk_data...\n",
      "[nltk_data]   Package punkt is already up-to-date!\n",
      "[nltk_data] Downloading package stopwords to\n",
      "[nltk_data]     /Users/levitas/nltk_data...\n",
      "[nltk_data]   Package stopwords is already up-to-date!\n",
      "/Users/levitas/opt/anaconda3/lib/python3.8/site-packages/IPython/core/interactiveshell.py:3172: DtypeWarning: Columns (10) have mixed types.Specify dtype option on import or set low_memory=False.\n",
      "  has_raised = await self.run_ast_nodes(code_ast.body, cell_name,\n",
      "<ipython-input-35-4c5b12eebc1c>:35: FutureWarning: Indexing with multiple keys (implicitly converted to a tuple of keys) will be deprecated, use a list instead.\n",
      "  df1=data.groupby(['CleanedDocs_ML','Streaming Group','AgeRating_13', 'AgeRating_16',\n"
     ]
    },
    {
     "data": {
      "text/plain": [
       "(33212, 2)"
      ]
     },
     "execution_count": 35,
     "metadata": {},
     "output_type": "execute_result"
    }
   ],
   "source": [
    "########H2O\n",
    "import pandas as pd\n",
    "import numpy as np\n",
    "import nltk as nltk\n",
    "from nltk.corpus import stopwords\n",
    "from nltk.util import ngrams\n",
    "from collections import Counter\n",
    "from nltk import word_tokenize \n",
    "import string\n",
    "import multiprocessing\n",
    "import gensim\n",
    "from gensim.models.keyedvectors import KeyedVectors\n",
    "import pickle\n",
    "nltk.download('punkt')\n",
    "nltk.download('stopwords')\n",
    "from sklearn.feature_extraction.text import TfidfVectorizer, CountVectorizer\n",
    "from sklearn.model_selection import train_test_split\n",
    "import re\n",
    "\n",
    "data = pd.read_csv('ProjectData_Saketh.csv')\n",
    "\n",
    "##\n",
    "# Data cleaning steps from earlier\n",
    "data = data.drop(['Unnamed: 0', 'URL', 'Rated', 'Duration Year', 'Where to Watch', 'Rent or Buy Available', 'Has Tag'], axis = 1)\n",
    "data['IMDB']=data['IMDB'].astype(float)\n",
    "data['AgeRating'] = data['AgeRating'].fillna(data['AgeRating'].mode()[0])\n",
    "data['Type'] = data['Type'].fillna(data['Type'].mode()[0])\n",
    "data[\"AgeRating\"] = data[\"AgeRating\"].astype(str)\n",
    "data[\"Type\"] = data[\"Type\"].astype(str)\n",
    "data = pd.get_dummies(data, columns = [\"AgeRating\", \"Type\"])\n",
    "data = data.drop_duplicates()\n",
    "mean_columns = ['IMDB', 'ReelGood','Released Year','Seasons']\n",
    "for i in mean_columns:\n",
    "    data[i] = data[i].fillna(data[i].mean())\n",
    "df1=data.groupby(['CleanedDocs_ML','Streaming Group','AgeRating_13', 'AgeRating_16',\n",
    "       'AgeRating_18', 'AgeRating_7', 'AgeRating_all', 'Type_movies',\n",
    "       'Type_tv'])['IMDB','ReelGood', 'Released Year', 'Exclusive Service'].max()\n",
    "data = df1    \n",
    "data2 = data.reset_index()\n",
    "data = data2\n",
    "##\n",
    "\n",
    "data_ne=data[data['Exclusive Service']==0]\n",
    "data_ne.reset_index(inplace=True)\n",
    "tst= data_ne[['CleanedDocs_ML','Streaming Group']].drop_duplicates()\n",
    "tst.shape\n",
    "#da=(' '.join(filter(None, data_ne[\"CleanedDocs_ML\"]))).lower()"
   ]
  },
  {
   "cell_type": "code",
   "execution_count": 36,
   "metadata": {
    "scrolled": true
   },
   "outputs": [
    {
     "name": "stdout",
     "output_type": "stream",
     "text": [
      "(33212, 21)\n"
     ]
    },
    {
     "name": "stderr",
     "output_type": "stream",
     "text": [
      "/Users/levitas/opt/anaconda3/lib/python3.8/site-packages/sklearn/utils/deprecation.py:87: FutureWarning: Function get_feature_names is deprecated; get_feature_names is deprecated in 1.0 and will be removed in 1.2. Please use get_feature_names_out instead.\n",
      "  warnings.warn(msg, category=FutureWarning)\n"
     ]
    },
    {
     "data": {
      "text/plain": [
       "Index(['CleanedDocs_ML', 'Streaming Group_amazon',\n",
       "       'Streaming Group_cinemax/showtime/starz',\n",
       "       'Streaming Group_criterion_channel',\n",
       "       'Streaming Group_crunchyroll/funimation', 'Streaming Group_disney',\n",
       "       'Streaming Group_epix', 'Streaming Group_fandor',\n",
       "       'Streaming Group_fubo_tv', 'Streaming Group_hbo',\n",
       "       'Streaming Group_hoopla/kanopy', 'Streaming Group_hulu_plus',\n",
       "       'Streaming Group_imdb_tv', 'Streaming Group_netflix',\n",
       "       'Streaming Group_peacock', 'Streaming Group_plex_free',\n",
       "       'Streaming Group_plutotv', 'Streaming Group_popcornflix',\n",
       "       'Streaming Group_sundance', 'Streaming Group_tubi_tv',\n",
       "       'Streaming Group_vudu_free'],\n",
       "      dtype='object')"
      ]
     },
     "execution_count": 36,
     "metadata": {},
     "output_type": "execute_result"
    }
   ],
   "source": [
    "import h2o\n",
    "from h2o.automl import H2OAutoML\n",
    "from sklearn.preprocessing import OneHotEncoder\n",
    "\n",
    "enc = OneHotEncoder(handle_unknown='ignore')\n",
    "data_ne_t = pd.DataFrame(enc.fit_transform(data_ne[['Streaming Group']]).toarray(),columns= enc.get_feature_names(['Streaming Group']))\n",
    "#print(data_ne_t.shape)\n",
    "#data_ne_t['CleanedDocs_ML']=data_ne['CleanedDocs_ML']\n",
    "#print(data_ne['CleanedDocs_ML'].shape)\n",
    "data_ne_t=pd.concat([data_ne['CleanedDocs_ML'],data_ne_t],axis=1)\n",
    "data_ne_t = data_ne_t.drop_duplicates(ignore_index=True)\n",
    "#data_ne_t.to_csv('Check_df.csv')\n",
    "print(data_ne_t.shape)\n",
    "#data=data_ne_t\n",
    "data_ne_t.columns\n"
   ]
  },
  {
   "cell_type": "code",
   "execution_count": 37,
   "metadata": {},
   "outputs": [
    {
     "name": "stdout",
     "output_type": "stream",
     "text": [
      "(18431, 21)\n"
     ]
    }
   ],
   "source": [
    "data_ne_t = data_ne_t.groupby('CleanedDocs_ML',as_index=False).max()\n",
    "print(data_ne_t.shape)\n",
    "data_ne_t = data_ne_t.merge(data_ne['CleanedDocs_ML'].drop_duplicates(), how='left', on='CleanedDocs_ML')\n",
    "data=data_ne_t"
   ]
  },
  {
   "cell_type": "markdown",
   "metadata": {},
   "source": [
    "### W2V for Non-Exclusive Content"
   ]
  },
  {
   "cell_type": "code",
   "execution_count": 38,
   "metadata": {},
   "outputs": [
    {
     "name": "stdout",
     "output_type": "stream",
     "text": [
      "0 docs removed\n",
      "(18431, 301)\n",
      "Records without Vecotrs Detected: (0, 301)\n",
      "There are 18431 Unique records in Final DataFrame\n",
      "Please QC the number of rows to be common before use. The shapes are defined below:\n",
      "Original Data Shape: (18431, 21) Word 2 Vec Vectorizer Shape is: (18431, 300)\n"
     ]
    },
    {
     "data": {
      "text/plain": [
       "18431"
      ]
     },
     "execution_count": 38,
     "metadata": {},
     "output_type": "execute_result"
    }
   ],
   "source": [
    "#Source: https://github.com/RaRe-Technologies/gensim/wiki/Migrating-from-Gensim-3.x-to-4\n",
    "#Source: https://towardsdatascience.com/using-word2vec-to-analyze-news-headlines-and-predict-article-success-cdeda5f14751\n",
    "\n",
    "# Function that will help us drop documents that have no word vectors in word2vec\n",
    "def has_vector_representation(word2vec_model, doc):\n",
    "    \"\"\"check if at least one word of the document is in the\n",
    "    word2vec dictionary\"\"\"\n",
    "    return not all(word not in word2vec_model.key_to_index for word in doc)\n",
    "\n",
    "# Filter out documents\n",
    "def filter_docs(corpus, texts, condition_on_doc):\n",
    "    \"\"\"\n",
    "    Filter corpus and texts given the function condition_on_doc which takes a doc. The document doc is kept if condition_on_doc(doc) is true.\n",
    "    \"\"\"\n",
    "    number_of_docs = len(corpus)\n",
    "\n",
    "    if texts is not None:\n",
    "        texts = [text for (text, doc) in zip(texts, corpus)\n",
    "                 if condition_on_doc(doc)]\n",
    "\n",
    "    corpus = [doc for doc in corpus if condition_on_doc(doc)]\n",
    "\n",
    "    print(\"{} docs removed\".format(number_of_docs - len(corpus)))\n",
    "\n",
    "    return (corpus, texts)\n",
    "\n",
    "def document_vector(word2vec_model, doc):\n",
    "    # remove out-of-vocabulary words\n",
    "    doc = [word for word in doc if word in model.key_to_index]\n",
    "    return np.mean(model[doc], axis=0)\n",
    "\n",
    "\n",
    "#W2V using Google Corpus\n",
    "da=(' '.join(filter(None, data[\"CleanedDocs_ML\"]))).lower()\n",
    "tokens = word_tokenize(da)\n",
    "model = gensim.models.KeyedVectors.load_word2vec_format(r'./GoogleNews-vectors-negative300.bin.gz', binary=True)\n",
    "\n",
    "\n",
    "df1 = pd.DataFrame(data[[\"CleanedDocs_ML\"]])\n",
    "df1['totake']=pd.DataFrame(df1[\"CleanedDocs_ML\"].apply(lambda x:has_vector_representation(model,x)))\n",
    "df1['joincol']=df1.index\n",
    "data_t = df1[df1['totake']]\n",
    "data_l = df1[df1['totake']==False]\n",
    "#data_l = data_l['joincol']\n",
    "\n",
    "data_l=data_l.reset_index(drop=True)\n",
    "data_t=data_t.reset_index(drop=True)\n",
    "\n",
    "text_list = [text for text in data_t['CleanedDocs_ML']]\n",
    "len(text_list)\n",
    "data_t['filtered_text'], text_list = filter_docs(data_t['CleanedDocs_ML'], text_list, lambda doc: has_vector_representation(model, doc))\n",
    "\n",
    "\n",
    "#Final out is in data filtered text\n",
    "vector = []\n",
    "for doc in data_t['filtered_text']: # append the vector for each document\n",
    "    vector.append(document_vector(model, doc))\n",
    "    \n",
    "df = np.array(vector)\n",
    "W2V300Data=pd.DataFrame(data=df[0:,0:], index=[i for i in range(df.shape[0])], columns=['f'+str(i) for i in range(df.shape[1])])\n",
    "\n",
    "\n",
    "W2V300Data['joincol']= data_t['joincol']\n",
    "\n",
    "l= ['f'+str(i) for i in range(df.shape[1])]\n",
    "for col in l:\n",
    "    data_l[col] = 0\n",
    "data_l=data_l.drop(columns=['CleanedDocs_ML', 'totake'])\n",
    "\n",
    "print(W2V300Data.shape)\n",
    "print(\"Records without Vecotrs Detected: \" + str(data_l.shape))\n",
    "W2V300Data=pd.concat([W2V300Data,data_l], ignore_index=True)\n",
    "print(\"There are \"+str(W2V300Data['joincol'].nunique())+\" Unique records in Final DataFrame\")\n",
    "W2V300Data = W2V300Data.set_index('joincol')\n",
    "W2V300Data = W2V300Data.sort_index(axis = 0) \n",
    "\n",
    "print(\"Please QC the number of rows to be common before use. The shapes are defined below:\")\n",
    "print(\"Original Data Shape: \"+ str(data.shape)+\" Word 2 Vec Vectorizer Shape is: \"+str(W2V300Data.shape))\n",
    "#W2V300Data.to_csv(r\"FeatureSets_New/W2V300Data.csv\",index=False, encoding=\"utf-8\")\n",
    "\n",
    "len(W2V300Data)\n",
    "\n",
    "#ADD any other coulmns for training as you see fit\n",
    "#W2V300Data['AgeRating']=data['AgeRating']"
   ]
  },
  {
   "cell_type": "markdown",
   "metadata": {},
   "source": [
    "### TFIDF for Non-Exclusive Content"
   ]
  },
  {
   "cell_type": "code",
   "execution_count": 39,
   "metadata": {},
   "outputs": [
    {
     "name": "stdout",
     "output_type": "stream",
     "text": [
      "Vocab Size from Data is: 19595\n"
     ]
    },
    {
     "name": "stderr",
     "output_type": "stream",
     "text": [
      "/Users/levitas/opt/anaconda3/lib/python3.8/site-packages/sklearn/utils/deprecation.py:87: FutureWarning: Function get_feature_names is deprecated; get_feature_names is deprecated in 1.0 and will be removed in 1.2. Please use get_feature_names_out instead.\n",
      "  warnings.warn(msg, category=FutureWarning)\n"
     ]
    },
    {
     "data": {
      "text/plain": [
       "18431"
      ]
     },
     "execution_count": 39,
     "metadata": {},
     "output_type": "execute_result"
    }
   ],
   "source": [
    "# ### Preparing Vocab Dictionary - for Count & TFIDF only\n",
    "stopwords1 = stopwords.words('english')\n",
    "\n",
    "#stopwords1.extend(stop['Stopword'])\n",
    "from nltk.util import ngrams\n",
    "from collections import Counter\n",
    "from nltk import word_tokenize \n",
    "da=(' '.join(filter(None,data[\"CleanedDocs_ML\"]))).lower()\n",
    "tokens = word_tokenize(da)\n",
    "tokens = [w for w in tokens if w not in stopwords1]\n",
    "filter_df =pd.DataFrame()\n",
    "uni_grams = list(ngrams(tokens, 1))\n",
    "counter = Counter(uni_grams)\n",
    "filter_df['fnames']=[' '.join(i) for i in counter.keys()]\n",
    "filter_df[0]=counter.values()\n",
    "\n",
    "###Change the number in the line below to limit vocab based on freq (To be tried to see if it improves model)\n",
    "fnames=pd.DataFrame(filter_df[filter_df[0]>1]['fnames'])\n",
    "print(\"Vocab Size from Data is: \" + str(fnames['fnames'].size))\n",
    "fnames.to_csv(r\"complete_data_dictionary\")\n",
    "fnames=fnames.reset_index(drop=True)\n",
    "vocab_d=dict(zip(fnames[\"fnames\"], fnames.index))\n",
    "pickle.dump(vocab_d,open('full_data_vocab','wb'))\n",
    "#\n",
    "del fnames, da,filter_df, counter, tokens, uni_grams,\n",
    "del stopwords1\n",
    "\n",
    "\n",
    "data[\"CleanedDocs_ML\"]=data[\"CleanedDocs_ML\"].astype(str)\n",
    "##to handle spaces in the end of text in case\n",
    "data[\"CleanedDocs_ML\"]=data[\"CleanedDocs_ML\"].str.lstrip() \n",
    "# data_with_id.loc[data_with_id.Text.str.lower().isin(stopwords1), 'Text'] = 'is stopword'\n",
    "\n",
    "\n",
    "vocabulary_words = pickle.load(open(r'full_data_vocab','rb'))\n",
    "\n",
    "\n",
    "tfidf_vect = TfidfVectorizer(analyzer='word', token_pattern=r'\\w{1,}', vocabulary= vocabulary_words)\n",
    "tfidf_vect.fit(data[\"CleanedDocs_ML\"])\n",
    "feature_names_dat = tfidf_vect.get_feature_names()\n",
    "df1 =  tfidf_vect.transform(data[\"CleanedDocs_ML\"])\n",
    "TfidfData = pd.DataFrame(df1.toarray(), columns=feature_names_dat)\n",
    "#TfidfData.to_csv(r\"tfidf_vectorizer_on_full_data_vocab.csv\",index=False, encoding=\"utf-8\")\n",
    "len(TfidfData)\n",
    "\n",
    "#ADD any other coulmns for training as you see fit\n",
    "#TfidfData['AgeRating']=data['AgeRating']"
   ]
  },
  {
   "cell_type": "markdown",
   "metadata": {},
   "source": [
    "#### In the step below, you can replace W2V300Data with any DF of your choice with the features of your choice:\n",
    "#### Replace the y/DV var\n",
    "#####    'Streaming Group_amazon',\n",
    "#####    'Streaming Group_cinemax/showtime/starz',\n",
    "#####    'Streaming Group_criterion_channel',\n",
    "#####    'Streaming Group_crunchyroll/funimation', 'Streaming Group_disney',\n",
    "#####    'Streaming Group_epix', 'Streaming Group_fandor',\n",
    "#####    'Streaming Group_fubo_tv', 'Streaming Group_hbo',\n",
    "#####    'Streaming Group_hoopla/kanopy', 'Streaming Group_hulu_plus',\n",
    "#####    'Streaming Group_imdb_tv', 'Streaming Group_netflix',\n",
    "#####    'Streaming Group_peacock', 'Streaming Group_plex_free',\n",
    "#####    'Streaming Group_plutotv', 'Streaming Group_popcornflix',\n",
    "#####    'Streaming Group_sundance', 'Streaming Group_tubi_tv',\n",
    "#####    'Streaming Group_vudu_free'"
   ]
  },
  {
   "cell_type": "code",
   "execution_count": 26,
   "metadata": {},
   "outputs": [],
   "source": [
    "# W2V300Data['IMDB']=data_ne['IMDB']\n",
    "# W2V300Data['Type_movies']=data_ne['Type_movies']\n",
    "# W2V300Data['Type_tv']=data_ne['Type_tv']\n",
    "# W2V300Data['ReelGood']=data_ne['ReelGood']\n",
    "# W2V300Data['Released Year']=data_ne['Released Year']\n",
    "# W2V300Data['AgeRating_13']=data_ne['AgeRating_13']\n",
    "# W2V300Data['AgeRating_16']=data_ne['AgeRating_16']\n",
    "# W2V300Data['AgeRating_18']=data_ne['AgeRating_18']\n",
    "# W2V300Data['AgeRating_7']=data_ne['AgeRating_7']\n",
    "# W2V300Data['AgeRating_all']=data_ne['AgeRating_all']\n",
    "#W2V300Data = W2V300Data.drop(['IMDB', 'Type_movies', 'Type_tv', 'ReelGood', 'Released Year', 'AgeRating_13', 'AgeRating_16', 'AgeRating_18', 'AgeRating_7', 'AgeRating_all'], 1)"
   ]
  },
  {
   "cell_type": "code",
   "execution_count": 150,
   "metadata": {},
   "outputs": [
    {
     "name": "stdout",
     "output_type": "stream",
     "text": [
      "Checking whether there is an H2O instance running at http://localhost:54321 . connected.\n"
     ]
    },
    {
     "data": {
      "text/html": [
       "<div style=\"overflow:auto\"><table style=\"width:50%\"><tr><td>H2O_cluster_uptime:</td>\n",
       "<td>7 hours 0 mins</td></tr>\n",
       "<tr><td>H2O_cluster_timezone:</td>\n",
       "<td>America/Los_Angeles</td></tr>\n",
       "<tr><td>H2O_data_parsing_timezone:</td>\n",
       "<td>UTC</td></tr>\n",
       "<tr><td>H2O_cluster_version:</td>\n",
       "<td>3.36.1.1</td></tr>\n",
       "<tr><td>H2O_cluster_version_age:</td>\n",
       "<td>26 days </td></tr>\n",
       "<tr><td>H2O_cluster_name:</td>\n",
       "<td>H2O_from_python_levitas_d5873t</td></tr>\n",
       "<tr><td>H2O_cluster_total_nodes:</td>\n",
       "<td>1</td></tr>\n",
       "<tr><td>H2O_cluster_free_memory:</td>\n",
       "<td>1.755 Gb</td></tr>\n",
       "<tr><td>H2O_cluster_total_cores:</td>\n",
       "<td>8</td></tr>\n",
       "<tr><td>H2O_cluster_allowed_cores:</td>\n",
       "<td>8</td></tr>\n",
       "<tr><td>H2O_cluster_status:</td>\n",
       "<td>locked, healthy</td></tr>\n",
       "<tr><td>H2O_connection_url:</td>\n",
       "<td>http://localhost:54321</td></tr>\n",
       "<tr><td>H2O_connection_proxy:</td>\n",
       "<td>{\"http\": null, \"https\": null}</td></tr>\n",
       "<tr><td>H2O_internal_security:</td>\n",
       "<td>False</td></tr>\n",
       "<tr><td>Python_version:</td>\n",
       "<td>3.8.8 final</td></tr></table></div>"
      ],
      "text/plain": [
       "--------------------------  ------------------------------\n",
       "H2O_cluster_uptime:         7 hours 0 mins\n",
       "H2O_cluster_timezone:       America/Los_Angeles\n",
       "H2O_data_parsing_timezone:  UTC\n",
       "H2O_cluster_version:        3.36.1.1\n",
       "H2O_cluster_version_age:    26 days\n",
       "H2O_cluster_name:           H2O_from_python_levitas_d5873t\n",
       "H2O_cluster_total_nodes:    1\n",
       "H2O_cluster_free_memory:    1.755 Gb\n",
       "H2O_cluster_total_cores:    8\n",
       "H2O_cluster_allowed_cores:  8\n",
       "H2O_cluster_status:         locked, healthy\n",
       "H2O_connection_url:         http://localhost:54321\n",
       "H2O_connection_proxy:       {\"http\": null, \"https\": null}\n",
       "H2O_internal_security:      False\n",
       "Python_version:             3.8.8 final\n",
       "--------------------------  ------------------------------"
      ]
     },
     "metadata": {},
     "output_type": "display_data"
    },
    {
     "name": "stdout",
     "output_type": "stream",
     "text": [
      "Parse progress: |████████████████████████████████████████████████████████████████| (done) 100%\n",
      "Parse progress: |████████████████████████████████████████████████████████████████| (done) 100%\n"
     ]
    }
   ],
   "source": [
    "#for each streaming group, need to update the below line of code for the column and the stratify arguments\n",
    "X_train, X_test, y_train, y_test = train_test_split(W2V300Data, data['Streaming Group_vudu_free'], test_size=0.25, random_state=42, stratify = data['Streaming Group_vudu_free'])\n",
    "tr=pd.DataFrame(X_train)\n",
    "tr=tr.reset_index(drop=True)\n",
    "#tr=tr.drop(columns=['joincol'],axis=1)\n",
    "predictors=list(tr.columns)\n",
    "y_train=pd.DataFrame(y_train)\n",
    "y_train=y_train.reset_index(drop=True)\n",
    "tr['DV']=y_train\n",
    "\n",
    "ts=pd.DataFrame(X_test)\n",
    "ts=ts.reset_index(drop=True)\n",
    "#ts=ts.drop(columns=['joincol'],axis=1)\n",
    "y_test=pd.DataFrame(y_test)\n",
    "y_test=y_test.reset_index(drop=True)\n",
    "ts['DV']=y_test\n",
    "\n",
    "\n",
    "h2o.init()\n",
    "tr_h2o = h2o.H2OFrame(tr)\n",
    "tr_h2o['DV'] = tr_h2o['DV'].asfactor()\n",
    "\n",
    "ts_h2o = h2o.H2OFrame(ts)\n",
    "ts_h2o['DV'] = ts_h2o['DV'].asfactor()"
   ]
  },
  {
   "cell_type": "code",
   "execution_count": 151,
   "metadata": {},
   "outputs": [
    {
     "name": "stdout",
     "output_type": "stream",
     "text": [
      "AutoML progress: |███████████████████████████████████████████████████████████████| (done) 100%\n"
     ]
    }
   ],
   "source": [
    "####Specify max models to control for time-\n",
    "\n",
    "#Auto ML Run # Set max_runtime_secs to whatever makes sense. \n",
    "aml = H2OAutoML(max_models = 20,max_runtime_secs=1800, seed = 1, export_checkpoints_dir = './dummy/')\n",
    "aml.train(x = predictors, y ='DV',training_frame=tr_h2o)\n",
    "#Get the leaderboard\n",
    "lb = aml.leaderboard"
   ]
  },
  {
   "cell_type": "code",
   "execution_count": 152,
   "metadata": {},
   "outputs": [
    {
     "data": {
      "text/html": [
       "<table>\n",
       "<thead>\n",
       "<tr><th>model_id                                                </th><th style=\"text-align: right;\">     auc</th><th style=\"text-align: right;\">  logloss</th><th style=\"text-align: right;\">    aucpr</th><th style=\"text-align: right;\">  mean_per_class_error</th><th style=\"text-align: right;\">    rmse</th><th style=\"text-align: right;\">      mse</th></tr>\n",
       "</thead>\n",
       "<tbody>\n",
       "<tr><td>GLM_1_AutoML_24_20220509_212303                         </td><td style=\"text-align: right;\">0.519184</td><td style=\"text-align: right;\"> 0.290946</td><td style=\"text-align: right;\">0.0936757</td><td style=\"text-align: right;\">              0.490391</td><td style=\"text-align: right;\">0.279025</td><td style=\"text-align: right;\">0.0778547</td></tr>\n",
       "<tr><td>XGBoost_1_AutoML_24_20220509_212303                     </td><td style=\"text-align: right;\">0.512268</td><td style=\"text-align: right;\"> 0.3348  </td><td style=\"text-align: right;\">0.0880683</td><td style=\"text-align: right;\">              0.492869</td><td style=\"text-align: right;\">0.29044 </td><td style=\"text-align: right;\">0.0843556</td></tr>\n",
       "<tr><td>GBM_1_AutoML_24_20220509_212303                         </td><td style=\"text-align: right;\">0.502002</td><td style=\"text-align: right;\"> 0.297553</td><td style=\"text-align: right;\">0.086932 </td><td style=\"text-align: right;\">              0.499763</td><td style=\"text-align: right;\">0.280956</td><td style=\"text-align: right;\">0.078936 </td></tr>\n",
       "<tr><td>StackedEnsemble_BestOfFamily_1_AutoML_24_20220509_212303</td><td style=\"text-align: right;\">0.488338</td><td style=\"text-align: right;\"> 0.291201</td><td style=\"text-align: right;\">0.0829519</td><td style=\"text-align: right;\">              0.4956  </td><td style=\"text-align: right;\">0.279111</td><td style=\"text-align: right;\">0.0779032</td></tr>\n",
       "</tbody>\n",
       "</table>"
      ]
     },
     "metadata": {},
     "output_type": "display_data"
    },
    {
     "data": {
      "text/plain": []
     },
     "execution_count": 152,
     "metadata": {},
     "output_type": "execute_result"
    }
   ],
   "source": [
    "#Get the leaderboard\n",
    "lb = aml.leaderboard\n",
    "#Display the leaderboard\n",
    "lb.head(rows=lb.nrows)"
   ]
  },
  {
   "cell_type": "code",
   "execution_count": 153,
   "metadata": {},
   "outputs": [
    {
     "data": {
      "text/plain": [
       "'/Users/levitas/Desktop/GLM_1_AutoML_24_20220509_212303'"
      ]
     },
     "execution_count": 153,
     "metadata": {},
     "output_type": "execute_result"
    }
   ],
   "source": [
    "model = aml.leader\n",
    "# download the model built above to your local machine - to reuse & Reproduce results on Future data\n",
    "my_local_model = h2o.download_model(model)\n",
    "my_local_model"
   ]
  },
  {
   "cell_type": "code",
   "execution_count": 154,
   "metadata": {},
   "outputs": [
    {
     "name": "stdout",
     "output_type": "stream",
     "text": [
      "Checking whether there is an H2O instance running at http://localhost:54321 . connected.\n"
     ]
    },
    {
     "data": {
      "text/html": [
       "<div style=\"overflow:auto\"><table style=\"width:50%\"><tr><td>H2O_cluster_uptime:</td>\n",
       "<td>7 hours 2 mins</td></tr>\n",
       "<tr><td>H2O_cluster_timezone:</td>\n",
       "<td>America/Los_Angeles</td></tr>\n",
       "<tr><td>H2O_data_parsing_timezone:</td>\n",
       "<td>UTC</td></tr>\n",
       "<tr><td>H2O_cluster_version:</td>\n",
       "<td>3.36.1.1</td></tr>\n",
       "<tr><td>H2O_cluster_version_age:</td>\n",
       "<td>26 days </td></tr>\n",
       "<tr><td>H2O_cluster_name:</td>\n",
       "<td>H2O_from_python_levitas_d5873t</td></tr>\n",
       "<tr><td>H2O_cluster_total_nodes:</td>\n",
       "<td>1</td></tr>\n",
       "<tr><td>H2O_cluster_free_memory:</td>\n",
       "<td>1.721 Gb</td></tr>\n",
       "<tr><td>H2O_cluster_total_cores:</td>\n",
       "<td>8</td></tr>\n",
       "<tr><td>H2O_cluster_allowed_cores:</td>\n",
       "<td>8</td></tr>\n",
       "<tr><td>H2O_cluster_status:</td>\n",
       "<td>locked, healthy</td></tr>\n",
       "<tr><td>H2O_connection_url:</td>\n",
       "<td>http://localhost:54321</td></tr>\n",
       "<tr><td>H2O_connection_proxy:</td>\n",
       "<td>{\"http\": null, \"https\": null}</td></tr>\n",
       "<tr><td>H2O_internal_security:</td>\n",
       "<td>False</td></tr>\n",
       "<tr><td>Python_version:</td>\n",
       "<td>3.8.8 final</td></tr></table></div>"
      ],
      "text/plain": [
       "--------------------------  ------------------------------\n",
       "H2O_cluster_uptime:         7 hours 2 mins\n",
       "H2O_cluster_timezone:       America/Los_Angeles\n",
       "H2O_data_parsing_timezone:  UTC\n",
       "H2O_cluster_version:        3.36.1.1\n",
       "H2O_cluster_version_age:    26 days\n",
       "H2O_cluster_name:           H2O_from_python_levitas_d5873t\n",
       "H2O_cluster_total_nodes:    1\n",
       "H2O_cluster_free_memory:    1.721 Gb\n",
       "H2O_cluster_total_cores:    8\n",
       "H2O_cluster_allowed_cores:  8\n",
       "H2O_cluster_status:         locked, healthy\n",
       "H2O_connection_url:         http://localhost:54321\n",
       "H2O_connection_proxy:       {\"http\": null, \"https\": null}\n",
       "H2O_internal_security:      False\n",
       "Python_version:             3.8.8 final\n",
       "--------------------------  ------------------------------"
      ]
     },
     "metadata": {},
     "output_type": "display_data"
    },
    {
     "name": "stdout",
     "output_type": "stream",
     "text": [
      "glm prediction progress: |███████████████████████████████████████████████████████| (done) 100%\n",
      "\n",
      "Testing Results of the trained model: \n",
      "\n",
      "Accuracy :  0.59765625\n",
      "\n",
      "Baseline Accuracy :  0.9149305555555556\n",
      "\n",
      "Confusion Matrix :\n",
      " [[1612 2604]\n",
      " [ 150  242]]\n",
      "\n",
      "Classification Report :\n",
      "               precision    recall  f1-score   support\n",
      "\n",
      "           0       0.91      0.38      0.54      4216\n",
      "           1       0.09      0.62      0.15       392\n",
      "\n",
      "    accuracy                           0.40      4608\n",
      "   macro avg       0.50      0.50      0.34      4608\n",
      "weighted avg       0.84      0.40      0.51      4608\n",
      "\n"
     ]
    },
    {
     "data": {
      "image/png": "[encoded data removed]",
      "text/plain": [
       "<Figure size 700x700 with 2 Axes>"
      ]
     },
     "metadata": {},
     "output_type": "display_data"
    }
   ],
   "source": [
    "h2o.init()\n",
    "# upload the model that you just downloded above\n",
    "# to the H2O cluster\n",
    "#need to update this model with the output from the above cell for each model that is run\n",
    "uploaded_model = h2o.upload_model('/Users/levitas/Desktop/GLM_1_AutoML_24_20220509_212303')\n",
    "model=uploaded_model\n",
    "# For Classification\n",
    "import scikitplot as skplt\n",
    "from sklearn.metrics import accuracy_score, classification_report\n",
    "from sklearn.metrics import cohen_kappa_score, confusion_matrix\n",
    "import matplotlib.pyplot as plt\n",
    "\n",
    "# Predict with the best model.\n",
    "predicted_y = model.predict(ts_h2o.drop('DV'))\n",
    "\n",
    "predicted_data = predicted_y.as_data_frame()\n",
    "valid_dataset = ts_h2o.as_data_frame()\n",
    "\n",
    "#Tweak Cutoff based on Event rate of the column - Optional\n",
    "#predicted_data['predict'] = np.where(predicted_data['p1']>=0.16,1,0)\n",
    "\n",
    "# Evaluate the skill of the Trained model\n",
    "acc                 = accuracy_score(valid_dataset['DV'], predicted_data['predict'])\n",
    "baseline_acc = accuracy_score(valid_dataset['DV'], [0 for i in range(len(predicted_data))])\n",
    "classReport         = classification_report(valid_dataset['DV'], predicted_data['predict'])\n",
    "confMatrix          = confusion_matrix(valid_dataset['DV'], predicted_data['predict']) \n",
    "        \n",
    "print(); print('Testing Results of the trained model: ')\n",
    "print(); print('Accuracy : ', 1-acc)\n",
    "print(); print('Baseline Accuracy : ', baseline_acc)\n",
    "print(); print('Confusion Matrix :\\n', confMatrix)\n",
    "print(); print('Classification Report :\\n',classReport)\n",
    "\n",
    "# Confusion matrix\n",
    "skplt.metrics.plot_confusion_matrix(valid_dataset['DV'], predicted_data['predict'], figsize=(7,7)); plt.show()"
   ]
  }
 ],
 "metadata": {
  "colab": {
   "collapsed_sections": [],
   "name": "Data Prep Notebook.ipynb",
   "provenance": []
  },
  "kernelspec": {
   "display_name": "Python 3",
   "language": "python",
   "name": "python3"
  },
  "language_info": {
   "codemirror_mode": {
    "name": "ipython",
    "version": 3
   },
   "file_extension": ".py",
   "mimetype": "text/x-python",
   "name": "python",
   "nbconvert_exporter": "python",
   "pygments_lexer": "ipython3",
   "version": "3.8.8"
  }
 },
 "nbformat": 4,
 "nbformat_minor": 1
}
